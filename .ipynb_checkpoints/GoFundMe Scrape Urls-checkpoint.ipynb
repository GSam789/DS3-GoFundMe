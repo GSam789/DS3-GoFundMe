{
 "cells": [
  {
   "cell_type": "code",
   "execution_count": 1,
   "metadata": {},
   "outputs": [],
   "source": [
    "from bs4 import BeautifulSoup\n",
    "from selenium import webdriver\n",
    "from time import sleep\n",
    "import numpy as np\n",
    "import pandas as pd"
   ]
  },
  {
   "cell_type": "code",
   "execution_count": 2,
   "metadata": {},
   "outputs": [],
   "source": [
    "url = 'https://www.gofundme.com/discover'\n",
    "driver = webdriver.Chrome('/Users/sddjl/Documents/GitHub/DS3-GoFundMe/chromedriver')\n",
    "driver.get(url)\n",
    "for elem in driver.find_elements_by_link_text('Show all categories'):\n",
    "        try:\n",
    "            elem.click()\n",
    "            print('Succesful click')\n",
    "        except:\n",
    "            print('Unsuccesful click')\n",
    "            \n",
    "source = driver.page_source\n",
    "\n",
    "driver.close()"
   ]
  },
  {
   "cell_type": "code",
   "execution_count": 3,
   "metadata": {},
   "outputs": [],
   "source": [
    "soup = BeautifulSoup(source, 'lxml')\n",
    "#cat_containers = soup.findAll(\"div\", {\"class\": \"cell grid-item small-6 medium-4 js-fund-tile\"})\n",
    "cat_containers = soup.findAll(\"div\", {\"class\": \"section-categories grid-x small-up-2 medium-up-3 large-up-6\"})\n",
    "categories = cat_containers[0].text #contains category names for this section\n",
    "categories = categories.splitlines()\n",
    "categories = list(filter(None, categories))\n",
    "\n",
    "more_containers = soup.findAll(\"div\", {\"class\": \"section-categories grid-x small-up-2 medium-up-3 large-up-6 js-more-categories\"})\n",
    "more_cats = more_containers[0].text\n",
    "more_cats = more_cats.splitlines()\n",
    "more_cats = list(filter(None, more_cats))"
   ]
  },
  {
   "cell_type": "code",
   "execution_count": 4,
   "metadata": {},
   "outputs": [],
   "source": [
    "all_cats = categories + more_cats # should be len(all_cats) == 18\n",
    "#make url_categories\n",
    "categories_urls = list(map(lambda x:{x:'https://www.gofundme.com/discover/{}-fundraiser'.format(x.lower())}, all_cats))\n",
    "\n",
    "#process to extract individual gofundme urls from an individual category"
   ]
  },
  {
   "cell_type": "code",
   "execution_count": 5,
   "metadata": {},
   "outputs": [],
   "source": [
    "mydf = pd.read_csv('GFM_url_list.csv', sep = '\\t')\n",
    "\n",
    "headers = [\"Url\", \"Category\",\"Position\", \"Title\", \"Location\",\"Amount_Raised\", \"Goal\", \"Number_of_Donators\", \"Length_of_Fundraising\", \"FB_Shares\", \"GFM_hearts\", \"Text\"]\n",
    "mydf = mydf.reindex(columns = headers)\n",
    "\n",
    "full_df = pd.DataFrame(columns = headers)"
   ]
  },
  {
   "cell_type": "code",
   "execution_count": 6,
   "metadata": {},
   "outputs": [],
   "source": [
    "def extract_urls_from_categories(url, MoreGFMclicks = 5):\n",
    "    \n",
    "    # eg. url = 'https://www.gofundme.com/discover/medical-fundraiser'\n",
    "    driver = webdriver.Chrome('/Users/sddjl/Documents/GitHub/DS3-GoFundMe/chromedriver')\n",
    "    driver.get(url)\n",
    "    \n",
    "    for i in range(MoreGFMclicks):\n",
    "        for elem in driver.find_elements_by_link_text('Show More'):\n",
    "            try:\n",
    "                elem.click()\n",
    "                print('Succesful click %s' %(i+1))#make this more useful- say what category it is e.g. url.get_category()\n",
    "            except:\n",
    "                print('Unsuccesful click %s' %(i+1))\n",
    "                \n",
    "            sleep(0.8) #longer delay - more succesful\n",
    "            \n",
    "    source = driver.page_source\n",
    "        \n",
    "    driver.close()\n",
    "    \n",
    "    soup = BeautifulSoup(source, 'lxml')\n",
    "    \n",
    "    containers = soup.findAll(\"div\", {\"class\": \"cell grid-item small-6 medium-4 js-fund-tile\"})\n",
    "    \n",
    "    temp_url = {}\n",
    "    i = 1\n",
    "    \n",
    "    for container in containers:\n",
    "        for link in container.find_all('a'):\n",
    "            temp_url[link.get('href')] = i\n",
    "            i = i + 1 \n",
    "\n",
    "    temp_url = {k: ((v // 2) - 1) // 3  for k, v in temp_url.items()} #\n",
    "\n",
    "\n",
    "    return(temp_url)\n",
    "\n",
    "#generate lists of list of URL per category"
   ]
  },
  {
   "cell_type": "code",
   "execution_count": 7,
   "metadata": {},
   "outputs": [],
   "source": [
    "def list_urls(MoreGFMclicks = 5):\n",
    "    GFM_urls = []\n",
    "    for url_pair in categories_urls:\n",
    "        category = list(url_pair.keys())[0]\n",
    "        url = list(url_pair.values())[0]\n",
    "        GFM_urls.append([extract_urls_from_categories(url, MoreGFMclicks = 5), category])#get category from categories_urls\n",
    "    print(\"All done!\")\n",
    "    return(GFM_urls)"
   ]
  },
  {
   "cell_type": "code",
   "execution_count": 8,
   "metadata": {},
   "outputs": [
    {
     "name": "stdout",
     "output_type": "stream",
     "text": [
      "Succesful click 4\n",
      "Succesful click 5\n",
      "Succesful click 1\n",
      "Succesful click 2\n",
      "Succesful click 3\n",
      "Succesful click 4\n",
      "Succesful click 5\n",
      "Succesful click 1\n",
      "Succesful click 2\n",
      "Succesful click 3\n",
      "Succesful click 4\n",
      "Succesful click 5\n",
      "Succesful click 4\n",
      "Succesful click 5\n",
      "Succesful click 1\n",
      "Succesful click 2\n",
      "Succesful click 3\n",
      "Succesful click 4\n",
      "Succesful click 5\n",
      "Succesful click 1\n",
      "Succesful click 2\n",
      "Succesful click 3\n",
      "Succesful click 4\n",
      "Succesful click 5\n",
      "Succesful click 4\n",
      "Succesful click 5\n",
      "Succesful click 1\n",
      "Succesful click 2\n",
      "Succesful click 3\n",
      "Succesful click 4\n",
      "Succesful click 5\n",
      "Succesful click 1\n",
      "Succesful click 2\n",
      "Succesful click 3\n",
      "Succesful click 4\n",
      "Succesful click 5\n",
      "Succesful click 1\n",
      "Succesful click 2\n",
      "Succesful click 3\n",
      "Succesful click 4\n",
      "Succesful click 5\n",
      "Succesful click 1\n",
      "Succesful click 2\n",
      "Succesful click 3\n",
      "Succesful click 4\n",
      "Succesful click 5\n",
      "Succesful click 1\n",
      "Succesful click 2\n",
      "Succesful click 3\n",
      "Succesful click 4\n",
      "Succesful click 5\n",
      "Succesful click 2\n",
      "Succesful click 3\n",
      "Succesful click 4\n",
      "Succesful click 5\n",
      "Succesful click 1\n",
      "Succesful click 2\n",
      "Succesful click 3\n",
      "Succesful click 4\n",
      "Succesful click 5\n",
      "Succesful click 1\n",
      "Succesful click 2\n",
      "Succesful click 3\n",
      "Succesful click 4\n",
      "Succesful click 5\n",
      "All done!\n"
     ]
    }
   ],
   "source": [
    "GFM_urls = list_urls()"
   ]
  },
  {
   "cell_type": "code",
   "execution_count": 9,
   "metadata": {},
   "outputs": [],
   "source": [
    "mydf = pd.DataFrame(columns = [\"Url\", \"Category\",\"Position\"])\n",
    "for cat in GFM_urls:\n",
    "    \n",
    "    temp_val = np.array(list(cat[0].values()))\n",
    "    temp_key = np.array(list(cat[0].keys()))\n",
    "    temp_category = np.repeat(cat[1], len(cat[0]))\n",
    "    \n",
    "    temp_df = pd.DataFrame(columns = [\"Url\", \"Category\", \"Position\"])\n",
    "    temp_df[\"Position\"] = temp_val\n",
    "    temp_df[\"Category\"] = temp_category\n",
    "    temp_df[\"Url\"] = temp_key\n",
    "    \n",
    "    mydf = mydf.append(temp_df, ignore_index = True)\n",
    "\n",
    "#flatten list\n",
    "\n",
    "mydf.to_csv('GFM_url_list.csv', sep='\\t')"
   ]
  },
  {
   "cell_type": "code",
   "execution_count": null,
   "metadata": {},
   "outputs": [],
   "source": []
  }
 ],
 "metadata": {
  "kernelspec": {
   "display_name": "Python 3",
   "language": "python",
   "name": "python3"
  },
  "language_info": {
   "codemirror_mode": {
    "name": "ipython",
    "version": 3
   },
   "file_extension": ".py",
   "mimetype": "text/x-python",
   "name": "python",
   "nbconvert_exporter": "python",
   "pygments_lexer": "ipython3",
   "version": "3.7.4"
  }
 },
 "nbformat": 4,
 "nbformat_minor": 2
}
