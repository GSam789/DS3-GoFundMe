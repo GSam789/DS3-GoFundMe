{
 "cells": [
  {
   "cell_type": "code",
   "execution_count": 1,
   "metadata": {},
   "outputs": [
    {
     "data": {
      "text/html": [
       "<div>\n",
       "<style scoped>\n",
       "    .dataframe tbody tr th:only-of-type {\n",
       "        vertical-align: middle;\n",
       "    }\n",
       "\n",
       "    .dataframe tbody tr th {\n",
       "        vertical-align: top;\n",
       "    }\n",
       "\n",
       "    .dataframe thead th {\n",
       "        text-align: right;\n",
       "    }\n",
       "</style>\n",
       "<table border=\"1\" class=\"dataframe\">\n",
       "  <thead>\n",
       "    <tr style=\"text-align: right;\">\n",
       "      <th></th>\n",
       "      <th>Unnamed: 0</th>\n",
       "      <th>Url</th>\n",
       "      <th>Category</th>\n",
       "      <th>Position</th>\n",
       "      <th>Title</th>\n",
       "      <th>Location</th>\n",
       "      <th>Amount_Raised</th>\n",
       "      <th>Goal</th>\n",
       "      <th>Number_of_Donations</th>\n",
       "      <th>Length_of_Fundraising</th>\n",
       "      <th>FB_Shares</th>\n",
       "      <th>Number_of_Donors</th>\n",
       "      <th>Followers</th>\n",
       "      <th>Text</th>\n",
       "    </tr>\n",
       "  </thead>\n",
       "  <tbody>\n",
       "    <tr>\n",
       "      <td>0</td>\n",
       "      <td>0</td>\n",
       "      <td>https://www.gofundme.com/f/justiceforjacobblake</td>\n",
       "      <td>Medical</td>\n",
       "      <td>0</td>\n",
       "      <td>Justice for Jacob Blake</td>\n",
       "      <td>Kenosha, WI</td>\n",
       "      <td>2296580.0</td>\n",
       "      <td>3000000.0</td>\n",
       "      <td>72.9K</td>\n",
       "      <td>72 days 00:33:52.072310000</td>\n",
       "      <td>118K</td>\n",
       "      <td>72.5K</td>\n",
       "      <td>73.4K</td>\n",
       "      <td>On August 23rd my son was shot multiple times ...</td>\n",
       "    </tr>\n",
       "    <tr>\n",
       "      <td>1</td>\n",
       "      <td>0</td>\n",
       "      <td>https://www.gofundme.com/f/official-navajo-nat...</td>\n",
       "      <td>Medical</td>\n",
       "      <td>0</td>\n",
       "      <td>Official Navajo Nation COVID-19 Relief Fund</td>\n",
       "      <td>Window Rock, AZ</td>\n",
       "      <td>1831590.0</td>\n",
       "      <td>1000000.0</td>\n",
       "      <td>22K</td>\n",
       "      <td>184 days 00:33:53.278684000</td>\n",
       "      <td>71.3K</td>\n",
       "      <td>21.5K</td>\n",
       "      <td>21.6K</td>\n",
       "      <td>\\r\\nThe Navajo Nation COVID-19 Fund has been e...</td>\n",
       "    </tr>\n",
       "    <tr>\n",
       "      <td>2</td>\n",
       "      <td>0</td>\n",
       "      <td>https://www.gofundme.com/f/Tommy-Rivers-Rest-Up</td>\n",
       "      <td>Medical</td>\n",
       "      <td>0</td>\n",
       "      <td>Rest up, Tommy, we'll see you soon</td>\n",
       "      <td>Raised $105,973 from 1795 donations</td>\n",
       "      <td>652554.0</td>\n",
       "      <td>1000000.0</td>\n",
       "      <td>11K</td>\n",
       "      <td>110 days 00:33:55.164400000</td>\n",
       "      <td>20.8K</td>\n",
       "      <td>10.1K</td>\n",
       "      <td>10.2K</td>\n",
       "      <td>First, thank you for being here. Tommy Rivers ...</td>\n",
       "    </tr>\n",
       "    <tr>\n",
       "      <td>3</td>\n",
       "      <td>0</td>\n",
       "      <td>https://www.gofundme.com/f/brandon039s-medical...</td>\n",
       "      <td>Medical</td>\n",
       "      <td>1</td>\n",
       "      <td>OFFICIAL BRANDON SAENZ MEDICAL FUND</td>\n",
       "      <td>Tyler, TX</td>\n",
       "      <td>570299.0</td>\n",
       "      <td>750000.0</td>\n",
       "      <td>24.7K</td>\n",
       "      <td>154 days 00:33:56.151397000</td>\n",
       "      <td>5.5K</td>\n",
       "      <td>24.3K</td>\n",
       "      <td>24.5K</td>\n",
       "      <td>My name is Melissa Green and I am the mother o...</td>\n",
       "    </tr>\n",
       "    <tr>\n",
       "      <td>4</td>\n",
       "      <td>0</td>\n",
       "      <td>https://www.gofundme.com/f/please-help-me-in-t...</td>\n",
       "      <td>Medical</td>\n",
       "      <td>1</td>\n",
       "      <td>PLEASE HELP ME IN THE BATTLE FOR MY LIFE</td>\n",
       "      <td>New Milford, NJ</td>\n",
       "      <td>498256.0</td>\n",
       "      <td>600000.0</td>\n",
       "      <td>7.8K</td>\n",
       "      <td>20 days 00:33:59.899292000</td>\n",
       "      <td>6.6K</td>\n",
       "      <td>7.7K</td>\n",
       "      <td>7.9K</td>\n",
       "      <td>PLEASE HELP ME IN THE BATTLE FOR MY LIFE.Â My ...</td>\n",
       "    </tr>\n",
       "    <tr>\n",
       "      <td>...</td>\n",
       "      <td>...</td>\n",
       "      <td>...</td>\n",
       "      <td>...</td>\n",
       "      <td>...</td>\n",
       "      <td>...</td>\n",
       "      <td>...</td>\n",
       "      <td>...</td>\n",
       "      <td>...</td>\n",
       "      <td>...</td>\n",
       "      <td>...</td>\n",
       "      <td>...</td>\n",
       "      <td>...</td>\n",
       "      <td>...</td>\n",
       "      <td>...</td>\n",
       "    </tr>\n",
       "    <tr>\n",
       "      <td>775</td>\n",
       "      <td>0</td>\n",
       "      <td>https://www.gofundme.com/f/breelynnstrong</td>\n",
       "      <td>Wishes</td>\n",
       "      <td>14</td>\n",
       "      <td>#breelynnstrong</td>\n",
       "      <td>Jamestown, IN</td>\n",
       "      <td>24374.0</td>\n",
       "      <td>30000.0</td>\n",
       "      <td>420</td>\n",
       "      <td>29 days 00:49:27.598525000</td>\n",
       "      <td>1.4K</td>\n",
       "      <td>418</td>\n",
       "      <td>419</td>\n",
       "      <td>\\r\\n#breelynnstrongDiffuse midline glioma, als...</td>\n",
       "    </tr>\n",
       "    <tr>\n",
       "      <td>776</td>\n",
       "      <td>0</td>\n",
       "      <td>https://www.gofundme.com/f/rebecca-trimble-mak...</td>\n",
       "      <td>Wishes</td>\n",
       "      <td>14</td>\n",
       "      <td>Rebecca Trimble - Make America \"Home\" - Legal ...</td>\n",
       "      <td>Bethel, AK</td>\n",
       "      <td>24162.0</td>\n",
       "      <td>25000.0</td>\n",
       "      <td>275</td>\n",
       "      <td>120 days 00:49:28.630604000</td>\n",
       "      <td>2.6K</td>\n",
       "      <td>272</td>\n",
       "      <td>274</td>\n",
       "      <td>A Woman Without A Country - New York Times Art...</td>\n",
       "    </tr>\n",
       "    <tr>\n",
       "      <td>777</td>\n",
       "      <td>0</td>\n",
       "      <td>https://www.gofundme.com/f/help-mr-walter-get-...</td>\n",
       "      <td>Wishes</td>\n",
       "      <td>15</td>\n",
       "      <td>(TEMP. ON PAUSE) Help Mr Walter get A NEW HOME!!</td>\n",
       "      <td>Tallahassee, FL</td>\n",
       "      <td>23565.0</td>\n",
       "      <td>100000.0</td>\n",
       "      <td>1.1K</td>\n",
       "      <td>121 days 00:49:29.620155000</td>\n",
       "      <td>3.9K</td>\n",
       "      <td>1.1K</td>\n",
       "      <td>1.1K</td>\n",
       "      <td>***EDIT: This fundraiser is temporarily on pau...</td>\n",
       "    </tr>\n",
       "    <tr>\n",
       "      <td>778</td>\n",
       "      <td>0</td>\n",
       "      <td>https://www.gofundme.com/f/Aylas-Fundraiser</td>\n",
       "      <td>Wishes</td>\n",
       "      <td>15</td>\n",
       "      <td>Aylaâs Fundraiser</td>\n",
       "      <td>North Grafton, MA</td>\n",
       "      <td>22825.0</td>\n",
       "      <td>1000.0</td>\n",
       "      <td>352</td>\n",
       "      <td>72 days 00:49:30.676767000</td>\n",
       "      <td>1.7K</td>\n",
       "      <td>347</td>\n",
       "      <td>349</td>\n",
       "      <td>My niece Megan was recently taken from us and ...</td>\n",
       "    </tr>\n",
       "    <tr>\n",
       "      <td>779</td>\n",
       "      <td>0</td>\n",
       "      <td>https://www.gofundme.com/f/21mq91ujxc</td>\n",
       "      <td>Wishes</td>\n",
       "      <td>15</td>\n",
       "      <td>Amariâs Transition Fund</td>\n",
       "      <td>Manchester, GA</td>\n",
       "      <td>22090.0</td>\n",
       "      <td>30000.0</td>\n",
       "      <td>1K</td>\n",
       "      <td>137 days 00:49:31.926906000</td>\n",
       "      <td>50</td>\n",
       "      <td>992</td>\n",
       "      <td>991</td>\n",
       "      <td>Iâm Amari! Iâm 22 years old and Iâm a bl...</td>\n",
       "    </tr>\n",
       "  </tbody>\n",
       "</table>\n",
       "<p>780 rows × 14 columns</p>\n",
       "</div>"
      ],
      "text/plain": [
       "     Unnamed: 0                                                Url Category  \\\n",
       "0             0    https://www.gofundme.com/f/justiceforjacobblake  Medical   \n",
       "1             0  https://www.gofundme.com/f/official-navajo-nat...  Medical   \n",
       "2             0    https://www.gofundme.com/f/Tommy-Rivers-Rest-Up  Medical   \n",
       "3             0  https://www.gofundme.com/f/brandon039s-medical...  Medical   \n",
       "4             0  https://www.gofundme.com/f/please-help-me-in-t...  Medical   \n",
       "..          ...                                                ...      ...   \n",
       "775           0          https://www.gofundme.com/f/breelynnstrong   Wishes   \n",
       "776           0  https://www.gofundme.com/f/rebecca-trimble-mak...   Wishes   \n",
       "777           0  https://www.gofundme.com/f/help-mr-walter-get-...   Wishes   \n",
       "778           0        https://www.gofundme.com/f/Aylas-Fundraiser   Wishes   \n",
       "779           0              https://www.gofundme.com/f/21mq91ujxc   Wishes   \n",
       "\n",
       "     Position                                              Title  \\\n",
       "0           0                            Justice for Jacob Blake   \n",
       "1           0        Official Navajo Nation COVID-19 Relief Fund   \n",
       "2           0                 Rest up, Tommy, we'll see you soon   \n",
       "3           1                OFFICIAL BRANDON SAENZ MEDICAL FUND   \n",
       "4           1           PLEASE HELP ME IN THE BATTLE FOR MY LIFE   \n",
       "..        ...                                                ...   \n",
       "775        14                                    #breelynnstrong   \n",
       "776        14  Rebecca Trimble - Make America \"Home\" - Legal ...   \n",
       "777        15   (TEMP. ON PAUSE) Help Mr Walter get A NEW HOME!!   \n",
       "778        15                                Aylaâs Fundraiser   \n",
       "779        15                          Amariâs Transition Fund   \n",
       "\n",
       "                                Location  Amount_Raised       Goal  \\\n",
       "0                            Kenosha, WI      2296580.0  3000000.0   \n",
       "1                        Window Rock, AZ      1831590.0  1000000.0   \n",
       "2    Raised $105,973 from 1795 donations       652554.0  1000000.0   \n",
       "3                              Tyler, TX       570299.0   750000.0   \n",
       "4                        New Milford, NJ       498256.0   600000.0   \n",
       "..                                   ...            ...        ...   \n",
       "775                        Jamestown, IN        24374.0    30000.0   \n",
       "776                           Bethel, AK        24162.0    25000.0   \n",
       "777                      Tallahassee, FL        23565.0   100000.0   \n",
       "778                    North Grafton, MA        22825.0     1000.0   \n",
       "779                       Manchester, GA        22090.0    30000.0   \n",
       "\n",
       "    Number_of_Donations        Length_of_Fundraising FB_Shares  \\\n",
       "0                 72.9K   72 days 00:33:52.072310000      118K   \n",
       "1                   22K  184 days 00:33:53.278684000     71.3K   \n",
       "2                   11K  110 days 00:33:55.164400000     20.8K   \n",
       "3                 24.7K  154 days 00:33:56.151397000      5.5K   \n",
       "4                  7.8K   20 days 00:33:59.899292000      6.6K   \n",
       "..                  ...                          ...       ...   \n",
       "775                 420   29 days 00:49:27.598525000      1.4K   \n",
       "776                 275  120 days 00:49:28.630604000      2.6K   \n",
       "777                1.1K  121 days 00:49:29.620155000      3.9K   \n",
       "778                 352   72 days 00:49:30.676767000      1.7K   \n",
       "779                  1K  137 days 00:49:31.926906000        50   \n",
       "\n",
       "    Number_of_Donors Followers  \\\n",
       "0              72.5K     73.4K   \n",
       "1              21.5K     21.6K   \n",
       "2              10.1K     10.2K   \n",
       "3              24.3K     24.5K   \n",
       "4               7.7K      7.9K   \n",
       "..               ...       ...   \n",
       "775              418       419   \n",
       "776              272       274   \n",
       "777             1.1K      1.1K   \n",
       "778              347       349   \n",
       "779              992       991   \n",
       "\n",
       "                                                  Text  \n",
       "0    On August 23rd my son was shot multiple times ...  \n",
       "1    \\r\\nThe Navajo Nation COVID-19 Fund has been e...  \n",
       "2    First, thank you for being here. Tommy Rivers ...  \n",
       "3    My name is Melissa Green and I am the mother o...  \n",
       "4    PLEASE HELP ME IN THE BATTLE FOR MY LIFE.Â My ...  \n",
       "..                                                 ...  \n",
       "775  \\r\\n#breelynnstrongDiffuse midline glioma, als...  \n",
       "776  A Woman Without A Country - New York Times Art...  \n",
       "777  ***EDIT: This fundraiser is temporarily on pau...  \n",
       "778  My niece Megan was recently taken from us and ...  \n",
       "779  Iâm Amari! Iâm 22 years old and Iâm a bl...  \n",
       "\n",
       "[780 rows x 14 columns]"
      ]
     },
     "execution_count": 1,
     "metadata": {},
     "output_type": "execute_result"
    }
   ],
   "source": [
    "import pandas as pd\n",
    "import numpy as np\n",
    "import seaborn as sns\n",
    "import matplotlib.pyplot as plt\n",
    "\n",
    "headers = [\"Url\", \"Category\",\"Position\", \"Title\", \"Location\",\"Amount_Raised\", \"Goal\", \"Number_of_Donators\",\n",
    "           \"Length_of_Fundraising\", \"FB_Shares\", \"GFM_hearts\", \"Text\", \"Latitude\", \"Longitude\"]\n",
    "\n",
    "df = pd.read_csv('GFM_data.csv', sep = '\\t', encoding = 'latin1')\n",
    "\n",
    "\n",
    "df"
   ]
  },
  {
   "cell_type": "code",
   "execution_count": 2,
   "metadata": {
    "scrolled": true
   },
   "outputs": [
    {
     "data": {
      "text/plain": [
       "<matplotlib.axes._subplots.AxesSubplot at 0x239c5496848>"
      ]
     },
     "execution_count": 2,
     "metadata": {},
     "output_type": "execute_result"
    },
    {
     "data": {
      "image/png": "[encoded data removed]",
      "text/plain": [
       "<Figure size 432x288 with 1 Axes>"
      ]
     },
     "metadata": {
      "needs_background": "light"
     },
     "output_type": "display_data"
    }
   ],
   "source": [
    "df['Category'].value_counts().plot(kind='barh')"
   ]
  },
  {
   "cell_type": "code",
   "execution_count": 3,
   "metadata": {},
   "outputs": [],
   "source": [
    "#Duration clean\n",
    "def helper_duration(y):\n",
    "    if y[1] == 'days' or y[1] == 'day':\n",
    "        y[0] = str(int(y[0])/30)\n",
    "    elif y[1] == 'year' or y[1] == 'years':\n",
    "        y[0] = str(int(y[0])*12)\n",
    "    del y[1]\n",
    "    return float(y[0])\n",
    "\n"
   ]
  },
  {
   "cell_type": "code",
   "execution_count": 4,
   "metadata": {},
   "outputs": [
    {
     "data": {
      "text/plain": [
       "<matplotlib.axes._subplots.AxesSubplot at 0x239c586c788>"
      ]
     },
     "execution_count": 4,
     "metadata": {},
     "output_type": "execute_result"
    },
    {
     "data": {
      "image/png": "[encoded data removed]",
      "text/plain": [
       "<Figure size 432x288 with 1 Axes>"
      ]
     },
     "metadata": {
      "needs_background": "light"
     },
     "output_type": "display_data"
    }
   ],
   "source": [
    "#Category v Duration \n",
    "d2 = df.assign(Duration = df.get('Length_of_Fundraising').str.split())\n",
    "d2 = d2.dropna()\n",
    "d2 = d2.assign(Duration= d2.get('Duration').apply(helper_duration))\n",
    "d2.groupby('Category').mean().sort_values(by = 'Duration').plot(y = 'Duration', kind = 'bar')\n"
   ]
  },
  {
   "cell_type": "code",
   "execution_count": 5,
   "metadata": {},
   "outputs": [
    {
     "data": {
      "text/plain": [
       "<matplotlib.axes._subplots.AxesSubplot at 0x239c58e0308>"
      ]
     },
     "execution_count": 5,
     "metadata": {},
     "output_type": "execute_result"
    },
    {
     "data": {
      "image/png": "[encoded data removed]",
      "text/plain": [
       "<Figure size 432x288 with 1 Axes>"
      ]
     },
     "metadata": {
      "needs_background": "light"
     },
     "output_type": "display_data"
    }
   ],
   "source": [
    "d2.plot.scatter(x = 'Duration', y = 'Amount_Raised')"
   ]
  },
  {
   "cell_type": "code",
   "execution_count": 6,
   "metadata": {},
   "outputs": [],
   "source": [
    "#Shares/Likes Cleaner\n",
    "def helper_likes(x):\n",
    "    if 'k' in x:\n",
    "        x = x.replace('k','')\n",
    "        x = float(x)*1000\n",
    "    else:\n",
    "        x = float(x)\n",
    "    return x"
   ]
  },
  {
   "cell_type": "code",
   "execution_count": 7,
   "metadata": {},
   "outputs": [
    {
     "ename": "ValueError",
     "evalue": "could not convert string to float: '118K'",
     "output_type": "error",
     "traceback": [
      "\u001b[1;31m---------------------------------------------------------------------------\u001b[0m",
      "\u001b[1;31mValueError\u001b[0m                                Traceback (most recent call last)",
      "\u001b[1;32m<ipython-input-7-155050811976>\u001b[0m in \u001b[0;36m<module>\u001b[1;34m\u001b[0m\n\u001b[0;32m      1\u001b[0m \u001b[1;31m#FB shares v Amount Raised\u001b[0m\u001b[1;33m\u001b[0m\u001b[1;33m\u001b[0m\u001b[1;33m\u001b[0m\u001b[0m\n\u001b[0;32m      2\u001b[0m \u001b[0md3\u001b[0m \u001b[1;33m=\u001b[0m \u001b[0mdf\u001b[0m\u001b[1;33m.\u001b[0m\u001b[0mdropna\u001b[0m\u001b[1;33m(\u001b[0m\u001b[1;33m)\u001b[0m\u001b[1;33m\u001b[0m\u001b[1;33m\u001b[0m\u001b[0m\n\u001b[1;32m----> 3\u001b[1;33m \u001b[0md3\u001b[0m \u001b[1;33m=\u001b[0m \u001b[0md3\u001b[0m\u001b[1;33m.\u001b[0m\u001b[0massign\u001b[0m\u001b[1;33m(\u001b[0m\u001b[0mFb\u001b[0m \u001b[1;33m=\u001b[0m \u001b[0md3\u001b[0m\u001b[1;33m.\u001b[0m\u001b[0mget\u001b[0m\u001b[1;33m(\u001b[0m\u001b[1;34m'FB_Shares'\u001b[0m\u001b[1;33m)\u001b[0m\u001b[1;33m.\u001b[0m\u001b[0mapply\u001b[0m\u001b[1;33m(\u001b[0m\u001b[0mhelper_likes\u001b[0m\u001b[1;33m)\u001b[0m\u001b[1;33m)\u001b[0m\u001b[1;33m\u001b[0m\u001b[1;33m\u001b[0m\u001b[0m\n\u001b[0m\u001b[0;32m      4\u001b[0m \u001b[0md3\u001b[0m\u001b[1;33m.\u001b[0m\u001b[0mplot\u001b[0m\u001b[1;33m.\u001b[0m\u001b[0mscatter\u001b[0m\u001b[1;33m(\u001b[0m\u001b[0mx\u001b[0m \u001b[1;33m=\u001b[0m \u001b[1;34m'Fb'\u001b[0m\u001b[1;33m,\u001b[0m \u001b[0my\u001b[0m \u001b[1;33m=\u001b[0m \u001b[1;34m'Amount_Raised'\u001b[0m\u001b[1;33m)\u001b[0m\u001b[1;33m\u001b[0m\u001b[1;33m\u001b[0m\u001b[0m\n",
      "\u001b[1;32m~\\Anaconda3\\lib\\site-packages\\pandas\\core\\series.py\u001b[0m in \u001b[0;36mapply\u001b[1;34m(self, func, convert_dtype, args, **kwds)\u001b[0m\n\u001b[0;32m   4040\u001b[0m             \u001b[1;32melse\u001b[0m\u001b[1;33m:\u001b[0m\u001b[1;33m\u001b[0m\u001b[1;33m\u001b[0m\u001b[0m\n\u001b[0;32m   4041\u001b[0m                 \u001b[0mvalues\u001b[0m \u001b[1;33m=\u001b[0m \u001b[0mself\u001b[0m\u001b[1;33m.\u001b[0m\u001b[0mastype\u001b[0m\u001b[1;33m(\u001b[0m\u001b[0mobject\u001b[0m\u001b[1;33m)\u001b[0m\u001b[1;33m.\u001b[0m\u001b[0mvalues\u001b[0m\u001b[1;33m\u001b[0m\u001b[1;33m\u001b[0m\u001b[0m\n\u001b[1;32m-> 4042\u001b[1;33m                 \u001b[0mmapped\u001b[0m \u001b[1;33m=\u001b[0m \u001b[0mlib\u001b[0m\u001b[1;33m.\u001b[0m\u001b[0mmap_infer\u001b[0m\u001b[1;33m(\u001b[0m\u001b[0mvalues\u001b[0m\u001b[1;33m,\u001b[0m \u001b[0mf\u001b[0m\u001b[1;33m,\u001b[0m \u001b[0mconvert\u001b[0m\u001b[1;33m=\u001b[0m\u001b[0mconvert_dtype\u001b[0m\u001b[1;33m)\u001b[0m\u001b[1;33m\u001b[0m\u001b[1;33m\u001b[0m\u001b[0m\n\u001b[0m\u001b[0;32m   4043\u001b[0m \u001b[1;33m\u001b[0m\u001b[0m\n\u001b[0;32m   4044\u001b[0m         \u001b[1;32mif\u001b[0m \u001b[0mlen\u001b[0m\u001b[1;33m(\u001b[0m\u001b[0mmapped\u001b[0m\u001b[1;33m)\u001b[0m \u001b[1;32mand\u001b[0m \u001b[0misinstance\u001b[0m\u001b[1;33m(\u001b[0m\u001b[0mmapped\u001b[0m\u001b[1;33m[\u001b[0m\u001b[1;36m0\u001b[0m\u001b[1;33m]\u001b[0m\u001b[1;33m,\u001b[0m \u001b[0mSeries\u001b[0m\u001b[1;33m)\u001b[0m\u001b[1;33m:\u001b[0m\u001b[1;33m\u001b[0m\u001b[1;33m\u001b[0m\u001b[0m\n",
      "\u001b[1;32mpandas\\_libs\\lib.pyx\u001b[0m in \u001b[0;36mpandas._libs.lib.map_infer\u001b[1;34m()\u001b[0m\n",
      "\u001b[1;32m<ipython-input-6-6b68e4a63e1e>\u001b[0m in \u001b[0;36mhelper_likes\u001b[1;34m(x)\u001b[0m\n\u001b[0;32m      5\u001b[0m         \u001b[0mx\u001b[0m \u001b[1;33m=\u001b[0m \u001b[0mfloat\u001b[0m\u001b[1;33m(\u001b[0m\u001b[0mx\u001b[0m\u001b[1;33m)\u001b[0m\u001b[1;33m*\u001b[0m\u001b[1;36m1000\u001b[0m\u001b[1;33m\u001b[0m\u001b[1;33m\u001b[0m\u001b[0m\n\u001b[0;32m      6\u001b[0m     \u001b[1;32melse\u001b[0m\u001b[1;33m:\u001b[0m\u001b[1;33m\u001b[0m\u001b[1;33m\u001b[0m\u001b[0m\n\u001b[1;32m----> 7\u001b[1;33m         \u001b[0mx\u001b[0m \u001b[1;33m=\u001b[0m \u001b[0mfloat\u001b[0m\u001b[1;33m(\u001b[0m\u001b[0mx\u001b[0m\u001b[1;33m)\u001b[0m\u001b[1;33m\u001b[0m\u001b[1;33m\u001b[0m\u001b[0m\n\u001b[0m\u001b[0;32m      8\u001b[0m     \u001b[1;32mreturn\u001b[0m \u001b[0mx\u001b[0m\u001b[1;33m\u001b[0m\u001b[1;33m\u001b[0m\u001b[0m\n",
      "\u001b[1;31mValueError\u001b[0m: could not convert string to float: '118K'"
     ]
    }
   ],
   "source": [
    "#FB shares v Amount Raised\n",
    "d3 = df.dropna()\n",
    "d3 = d3.assign(Fb = d3.get('FB_Shares').apply(helper_likes))\n",
    "d3.plot.scatter(x = 'Fb', y = 'Amount_Raised')\n"
   ]
  },
  {
   "cell_type": "code",
   "execution_count": null,
   "metadata": {},
   "outputs": [],
   "source": []
  },
  {
   "cell_type": "code",
   "execution_count": null,
   "metadata": {
    "scrolled": true
   },
   "outputs": [],
   "source": [
    "#GFM heart v Amount Raised\n",
    "d4 = df.dropna()\n",
    "d4 = d4.assign(Gfm = d4.get('GFM_hearts').apply(helper_likes))\n",
    "d4_1 = d4[d4.get('Gfm') <=10000]\n",
    "d4_2 = d4_1[d4_1.get('Amount_Raised')<=500000]\n",
    "d4.plot.scatter(x = 'Gfm', y = 'Amount_Raised')\n",
    "d4_2.plot.scatter(x = 'Gfm', y = 'Amount_Raised') #Zoomed in plot for GFM Hearts v Amount Raised"
   ]
  },
  {
   "cell_type": "code",
   "execution_count": null,
   "metadata": {},
   "outputs": [],
   "source": [
    "#Category v Amounts\n",
    "d5 = df.dropna()\n",
    "d6 = df.dropna()\n",
    "d7 = df.dropna()\n",
    "d8 = df.dropna()\n",
    "d5 = d5.groupby(['Category']).mean().sort_values(by = 'Amount_Raised')\n",
    "d6 = d6.groupby(['Category']).min().sort_values(by = 'Amount_Raised')\n",
    "d7 = d7.groupby(['Category']).max().sort_values(by = 'Amount_Raised')\n",
    "d8 = d8.groupby(['Category']).sum().sort_values(by = 'Amount_Raised')\n",
    "print(\"Mean amounts by Category\")\n",
    "d5.plot(y = 'Amount_Raised', kind = 'bar') #Mean amounts\n",
    "print(\"Min amounts by Category\")\n",
    "d6.plot(y = 'Amount_Raised', kind = 'bar') #Minimum Amounts\n",
    "print(\"Max amounts by Category\")\n",
    "d7.plot(y = 'Amount_Raised', kind = 'bar') #Maximum Amounts\n",
    "print(\"Total Amounts by Category\")\n",
    "d8.plot(y = 'Amount_Raised', kind = 'bar') #Total Amounts"
   ]
  },
  {
   "cell_type": "code",
   "execution_count": null,
   "metadata": {},
   "outputs": [],
   "source": [
    "# Donator and Goal Cleaner\n",
    "def helper_Goal_Donator(x):\n",
    "    if 'k' in x:\n",
    "        x = x.replace('k', '')\n",
    "        x = float(x)*1000\n",
    "    elif 'M' in x:\n",
    "        x = x.replace('M', '')\n",
    "        x = float(x)*1000000\n",
    "    elif ',' in x:\n",
    "        x = x.replace(',','')\n",
    "        x = float(x)\n",
    "    else:\n",
    "        x = float(x)\n",
    "    return x\n"
   ]
  },
  {
   "cell_type": "code",
   "execution_count": null,
   "metadata": {},
   "outputs": [],
   "source": [
    "#Goal v Number of Donators\n",
    "#Goal v Amount Raised\n",
    "d9 = df.dropna()\n",
    "d9 = d9.assign(Goals = d9.get('Goal').apply(helper_Goal_Donator))\n",
    "d9 = d9.assign(Donators = d9.get('Number_of_Donators').apply(helper_Goal_Donator))\n",
    "d9.plot.scatter(x = 'Goals', y = 'Donators')\n",
    "d9.plot.scatter(x = 'Goals', y ='Amount_Raised')\n",
    "#Zoomed in plot for Goals v Amount Raised\n",
    "d9[(d9.get('Goals') <= 20000) & (d9.get('Amount_Raised') <= 100000)].plot.scatter(x = 'Goals', y ='Amount_Raised') \n",
    "#df7.plot.scatter(x = 'Goal_nums', y = 'gfm_nums', )"
   ]
  },
  {
   "cell_type": "code",
   "execution_count": null,
   "metadata": {},
   "outputs": [],
   "source": [
    "#Goals v GFM Hearts\n",
    "d10 = df.assign(Goals = d9.get(\"Goals\"), GFM = d4.get('Gfm'))\n",
    "d10.plot.scatter(x = 'Goals', y = 'GFM')\n",
    "#Goals v GFM Hearts zoomed in plot\n",
    "d10[(d10.get('Goals') <= 500000) & (d10.get(\"GFM\") <= 10000)].plot.scatter(x = 'Goals', y = \"GFM\")"
   ]
  },
  {
   "cell_type": "code",
   "execution_count": null,
   "metadata": {},
   "outputs": [],
   "source": []
  },
  {
   "cell_type": "code",
   "execution_count": null,
   "metadata": {},
   "outputs": [],
   "source": []
  }
 ],
 "metadata": {
  "kernelspec": {
   "display_name": "Python 3",
   "language": "python",
   "name": "python3"
  },
  "language_info": {
   "codemirror_mode": {
    "name": "ipython",
    "version": 3
   },
   "file_extension": ".py",
   "mimetype": "text/x-python",
   "name": "python",
   "nbconvert_exporter": "python",
   "pygments_lexer": "ipython3",
   "version": "3.7.4"
  }
 },
 "nbformat": 4,
 "nbformat_minor": 2
}
