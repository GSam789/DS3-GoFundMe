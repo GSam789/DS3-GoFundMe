{
 "cells": [
  {
   "cell_type": "code",
   "execution_count": 79,
   "metadata": {},
   "outputs": [],
   "source": [
    "%matplotlib inline\n",
    "import pandas as pd\n",
    "import numpy as np\n",
    "import matplotlib.pyplot as plt\n",
    "plt.style.use('seaborn-whitegrid')\n",
    "from sklearn.linear_model import LinearRegression\n",
    "from sklearn.metrics import r2_score\n",
    "import statsmodels.api as sm\n",
    "from sklearn import preprocessing\n",
    "import seaborn as sn\n",
    "from scipy import stats"
   ]
  },
  {
   "cell_type": "code",
   "execution_count": 48,
   "metadata": {},
   "outputs": [],
   "source": [
    "df = pd.read_csv('GFM_data.csv', sep = '\\t')"
   ]
  },
  {
   "cell_type": "markdown",
   "metadata": {},
   "source": [
    "### Clean dataframe and standardize numerical data"
   ]
  },
  {
   "cell_type": "code",
   "execution_count": 49,
   "metadata": {},
   "outputs": [],
   "source": [
    "def helper(x):\n",
    "    ## if string will make numeric\n",
    "    if isinstance(x,str):\n",
    "        x = x.replace(',','')\n",
    "        ## if has \".1k\" will change to numeric\n",
    "        if '.' in x and 'K' in x:\n",
    "            x = x.replace('.','')\n",
    "            x = x.replace('K','00')\n",
    "        ## if \"k\" will change to numeric\n",
    "        if 'K' in x:\n",
    "            x = x.replace('K','000')\n",
    "        return x\n",
    "    ## return nan\n",
    "    else:\n",
    "        return x\n",
    "df['Number_of_Donations'] = df['Number_of_Donations'].apply(helper).astype(float)\n",
    "df['FB_Shares'] = df['FB_Shares'].apply(helper).astype(float)\n",
    "df['Number_of_Donors'] = df['Number_of_Donors'].apply(helper).astype(float)\n",
    "df['Followers'] = df['Followers'].apply(helper).astype(float)"
   ]
  },
  {
   "cell_type": "code",
   "execution_count": 50,
   "metadata": {},
   "outputs": [],
   "source": [
    "df['Amount_Raised'] = pd.Series(preprocessing.scale(df['Amount_Raised'].values))\n",
    "df['Goal'] = pd.Series(preprocessing.scale(df['Goal'].values))\n",
    "df['Number_of_Donations'] = pd.Series(preprocessing.scale(df['Number_of_Donations'].values))\n",
    "df['FB_Shares'] = pd.Series(preprocessing.scale(df['FB_Shares'].values))\n",
    "df['Number_of_Donors'] = pd.Series(preprocessing.scale(df['Number_of_Donors'].values))\n",
    "df['Followers'] = pd.Series(preprocessing.scale(df['Followers'].values))"
   ]
  },
  {
   "cell_type": "code",
   "execution_count": 51,
   "metadata": {},
   "outputs": [],
   "source": [
    "df = df.dropna()"
   ]
  },
  {
   "cell_type": "code",
   "execution_count": 52,
   "metadata": {},
   "outputs": [],
   "source": [
    "df['Length_of_Fundraising']= df['Length_of_Fundraising'].apply(lambda x: int(x[:-24]))\n",
    "df['Length_of_Fundraising'] = pd.Series(preprocessing.scale(df['Length_of_Fundraising'].values))"
   ]
  },
  {
   "cell_type": "code",
   "execution_count": 53,
   "metadata": {},
   "outputs": [
    {
     "data": {
      "text/html": [
       "<div>\n",
       "<style scoped>\n",
       "    .dataframe tbody tr th:only-of-type {\n",
       "        vertical-align: middle;\n",
       "    }\n",
       "\n",
       "    .dataframe tbody tr th {\n",
       "        vertical-align: top;\n",
       "    }\n",
       "\n",
       "    .dataframe thead th {\n",
       "        text-align: right;\n",
       "    }\n",
       "</style>\n",
       "<table border=\"1\" class=\"dataframe\">\n",
       "  <thead>\n",
       "    <tr style=\"text-align: right;\">\n",
       "      <th></th>\n",
       "      <th>Unnamed: 0</th>\n",
       "      <th>Url</th>\n",
       "      <th>Category</th>\n",
       "      <th>Position</th>\n",
       "      <th>Title</th>\n",
       "      <th>Location</th>\n",
       "      <th>Amount_Raised</th>\n",
       "      <th>Goal</th>\n",
       "      <th>Number_of_Donations</th>\n",
       "      <th>Length_of_Fundraising</th>\n",
       "      <th>FB_Shares</th>\n",
       "      <th>Number_of_Donors</th>\n",
       "      <th>Followers</th>\n",
       "      <th>Text</th>\n",
       "    </tr>\n",
       "  </thead>\n",
       "  <tbody>\n",
       "    <tr>\n",
       "      <td>0</td>\n",
       "      <td>0</td>\n",
       "      <td>https://www.gofundme.com/f/justiceforjacobblake</td>\n",
       "      <td>Medical</td>\n",
       "      <td>0</td>\n",
       "      <td>Justice for Jacob Blake</td>\n",
       "      <td>Kenosha, WI</td>\n",
       "      <td>6.616203</td>\n",
       "      <td>8.945946</td>\n",
       "      <td>7.162507</td>\n",
       "      <td>-0.680095</td>\n",
       "      <td>11.813639</td>\n",
       "      <td>7.276107</td>\n",
       "      <td>7.470116</td>\n",
       "      <td>On August 23rd my son was shot multiple times ...</td>\n",
       "    </tr>\n",
       "    <tr>\n",
       "      <td>1</td>\n",
       "      <td>0</td>\n",
       "      <td>https://www.gofundme.com/f/official-navajo-nat...</td>\n",
       "      <td>Medical</td>\n",
       "      <td>0</td>\n",
       "      <td>Official Navajo Nation COVID-19 Relief Fund</td>\n",
       "      <td>Window Rock, AZ</td>\n",
       "      <td>5.214384</td>\n",
       "      <td>2.693807</td>\n",
       "      <td>2.035069</td>\n",
       "      <td>1.655223</td>\n",
       "      <td>7.003071</td>\n",
       "      <td>2.031186</td>\n",
       "      <td>2.070553</td>\n",
       "      <td>\\nThe Navajo Nation COVID-19 Fund has been est...</td>\n",
       "    </tr>\n",
       "    <tr>\n",
       "      <td>2</td>\n",
       "      <td>0</td>\n",
       "      <td>https://www.gofundme.com/f/Tommy-Rivers-Rest-Up</td>\n",
       "      <td>Medical</td>\n",
       "      <td>0</td>\n",
       "      <td>Rest up, Tommy, we'll see you soon</td>\n",
       "      <td>Raised $105,973 from 1795 donations</td>\n",
       "      <td>1.659910</td>\n",
       "      <td>2.693807</td>\n",
       "      <td>0.926979</td>\n",
       "      <td>0.112245</td>\n",
       "      <td>1.801064</td>\n",
       "      <td>0.858791</td>\n",
       "      <td>0.882232</td>\n",
       "      <td>First, thank you for being here. Tommy Rivers ...</td>\n",
       "    </tr>\n",
       "    <tr>\n",
       "      <td>3</td>\n",
       "      <td>0</td>\n",
       "      <td>https://www.gofundme.com/f/brandon039s-medical...</td>\n",
       "      <td>Medical</td>\n",
       "      <td>1</td>\n",
       "      <td>OFFICIAL BRANDON SAENZ MEDICAL FUND</td>\n",
       "      <td>Tyler, TX</td>\n",
       "      <td>1.411933</td>\n",
       "      <td>1.912289</td>\n",
       "      <td>2.307055</td>\n",
       "      <td>1.029692</td>\n",
       "      <td>0.225011</td>\n",
       "      <td>2.319142</td>\n",
       "      <td>2.372845</td>\n",
       "      <td>My name is Melissa Green and I am the mother o...</td>\n",
       "    </tr>\n",
       "    <tr>\n",
       "      <td>4</td>\n",
       "      <td>0</td>\n",
       "      <td>https://www.gofundme.com/f/please-help-me-in-t...</td>\n",
       "      <td>Medical</td>\n",
       "      <td>1</td>\n",
       "      <td>PLEASE HELP ME IN THE BATTLE FOR MY LIFE</td>\n",
       "      <td>New Milford, NJ</td>\n",
       "      <td>1.194743</td>\n",
       "      <td>1.443379</td>\n",
       "      <td>0.604625</td>\n",
       "      <td>-1.764350</td>\n",
       "      <td>0.338322</td>\n",
       "      <td>0.611972</td>\n",
       "      <td>0.642483</td>\n",
       "      <td>PLEASE HELP ME IN THE BATTLE FOR MY LIFE. My n...</td>\n",
       "    </tr>\n",
       "  </tbody>\n",
       "</table>\n",
       "</div>"
      ],
      "text/plain": [
       "   Unnamed: 0                                                Url Category  \\\n",
       "0           0    https://www.gofundme.com/f/justiceforjacobblake  Medical   \n",
       "1           0  https://www.gofundme.com/f/official-navajo-nat...  Medical   \n",
       "2           0    https://www.gofundme.com/f/Tommy-Rivers-Rest-Up  Medical   \n",
       "3           0  https://www.gofundme.com/f/brandon039s-medical...  Medical   \n",
       "4           0  https://www.gofundme.com/f/please-help-me-in-t...  Medical   \n",
       "\n",
       "   Position                                        Title  \\\n",
       "0         0                      Justice for Jacob Blake   \n",
       "1         0  Official Navajo Nation COVID-19 Relief Fund   \n",
       "2         0           Rest up, Tommy, we'll see you soon   \n",
       "3         1          OFFICIAL BRANDON SAENZ MEDICAL FUND   \n",
       "4         1     PLEASE HELP ME IN THE BATTLE FOR MY LIFE   \n",
       "\n",
       "                              Location  Amount_Raised      Goal  \\\n",
       "0                          Kenosha, WI       6.616203  8.945946   \n",
       "1                      Window Rock, AZ       5.214384  2.693807   \n",
       "2  Raised $105,973 from 1795 donations       1.659910  2.693807   \n",
       "3                            Tyler, TX       1.411933  1.912289   \n",
       "4                      New Milford, NJ       1.194743  1.443379   \n",
       "\n",
       "   Number_of_Donations  Length_of_Fundraising  FB_Shares  Number_of_Donors  \\\n",
       "0             7.162507              -0.680095  11.813639          7.276107   \n",
       "1             2.035069               1.655223   7.003071          2.031186   \n",
       "2             0.926979               0.112245   1.801064          0.858791   \n",
       "3             2.307055               1.029692   0.225011          2.319142   \n",
       "4             0.604625              -1.764350   0.338322          0.611972   \n",
       "\n",
       "   Followers                                               Text  \n",
       "0   7.470116  On August 23rd my son was shot multiple times ...  \n",
       "1   2.070553  \\nThe Navajo Nation COVID-19 Fund has been est...  \n",
       "2   0.882232  First, thank you for being here. Tommy Rivers ...  \n",
       "3   2.372845  My name is Melissa Green and I am the mother o...  \n",
       "4   0.642483  PLEASE HELP ME IN THE BATTLE FOR MY LIFE. My n...  "
      ]
     },
     "execution_count": 53,
     "metadata": {},
     "output_type": "execute_result"
    }
   ],
   "source": [
    "df.head()"
   ]
  },
  {
   "cell_type": "code",
   "execution_count": 54,
   "metadata": {},
   "outputs": [
    {
     "data": {
      "text/plain": [
       "112"
      ]
     },
     "execution_count": 54,
     "metadata": {},
     "output_type": "execute_result"
    }
   ],
   "source": [
    "count = 0\n",
    "for x in df['Location']:\n",
    "    if x.find('$') != -1:\n",
    "        count += 1\n",
    "count"
   ]
  },
  {
   "cell_type": "markdown",
   "metadata": {},
   "source": [
    "## Quantitative Predictors"
   ]
  },
  {
   "cell_type": "markdown",
   "metadata": {},
   "source": [
    "### The relationship between Amount_Raised and Number_of_Donations appears linear"
   ]
  },
  {
   "cell_type": "code",
   "execution_count": 55,
   "metadata": {},
   "outputs": [
    {
     "data": {
      "text/plain": [
       "[<matplotlib.lines.Line2D at 0x1eed90e8d48>]"
      ]
     },
     "execution_count": 55,
     "metadata": {},
     "output_type": "execute_result"
    },
    {
     "data": {
      "image/png": "[encoded data removed]",
      "text/plain": [
       "<Figure size 432x288 with 1 Axes>"
      ]
     },
     "metadata": {},
     "output_type": "display_data"
    }
   ],
   "source": [
    "x = df['Number_of_Donations']\n",
    "y = df['Amount_Raised']\n",
    "\n",
    "plt.plot(x, y, 'o', color = 'black')\n",
    "\n",
    "m, b = np.polyfit(x, y, 1)\n",
    "\n",
    "\n",
    "plt.plot(x, m*x + b)"
   ]
  },
  {
   "cell_type": "markdown",
   "metadata": {},
   "source": [
    "The p-value is very close to 0 so number of donations is a strong predictor of amount raised"
   ]
  },
  {
   "cell_type": "code",
   "execution_count": 56,
   "metadata": {},
   "outputs": [
    {
     "name": "stdout",
     "output_type": "stream",
     "text": [
      "                            OLS Regression Results                            \n",
      "==============================================================================\n",
      "Dep. Variable:          Amount_Raised   R-squared:                       0.859\n",
      "Model:                            OLS   Adj. R-squared:                  0.859\n",
      "Method:                 Least Squares   F-statistic:                     4565.\n",
      "Date:                Mon, 09 Nov 2020   Prob (F-statistic):          2.06e-320\n",
      "Time:                        14:18:00   Log-Likelihood:                -329.13\n",
      "No. Observations:                 749   AIC:                             662.3\n",
      "Df Residuals:                     747   BIC:                             671.5\n",
      "Df Model:                           1                                         \n",
      "Covariance Type:            nonrobust                                         \n",
      "==============================================================================\n",
      "                 coef    std err          t      P>|t|      [0.025      0.975]\n",
      "------------------------------------------------------------------------------\n",
      "const       8.936e-05      0.014      0.007      0.995      -0.027       0.027\n",
      "x1             0.9270      0.014     67.561      0.000       0.900       0.954\n",
      "==============================================================================\n",
      "Omnibus:                      774.468   Durbin-Watson:                   1.471\n",
      "Prob(Omnibus):                  0.000   Jarque-Bera (JB):           147270.351\n",
      "Skew:                           4.266   Prob(JB):                         0.00\n",
      "Kurtosis:                      71.163   Cond. No.                         1.00\n",
      "==============================================================================\n",
      "\n",
      "Warnings:\n",
      "[1] Standard Errors assume that the covariance matrix of the errors is correctly specified.\n"
     ]
    }
   ],
   "source": [
    "X2 = sm.add_constant(x.values)\n",
    "est = sm.OLS(y, X2)\n",
    "est2 = est.fit()\n",
    "print(est2.summary())"
   ]
  },
  {
   "cell_type": "code",
   "execution_count": 57,
   "metadata": {},
   "outputs": [],
   "source": [
    "mod = sm.OLS(y, x)\n",
    "fii = mod.fit()\n",
    "p_values = fii.summary2().tables[1]['P>|t|']"
   ]
  },
  {
   "cell_type": "code",
   "execution_count": 58,
   "metadata": {},
   "outputs": [
    {
     "data": {
      "text/plain": [
       "Number_of_Donations    7.707424e-321\n",
       "Name: P>|t|, dtype: float64"
      ]
     },
     "execution_count": 58,
     "metadata": {},
     "output_type": "execute_result"
    }
   ],
   "source": [
    "p_values"
   ]
  },
  {
   "cell_type": "markdown",
   "metadata": {},
   "source": [
    "### The relationship between Amount_Raised and Goal appears linear"
   ]
  },
  {
   "cell_type": "code",
   "execution_count": 59,
   "metadata": {},
   "outputs": [
    {
     "data": {
      "text/plain": [
       "[<matplotlib.lines.Line2D at 0x1eed96744c8>]"
      ]
     },
     "execution_count": 59,
     "metadata": {},
     "output_type": "execute_result"
    },
    {
     "data": {
      "image/png": "[encoded data removed]",
      "text/plain": [
       "<Figure size 432x288 with 1 Axes>"
      ]
     },
     "metadata": {},
     "output_type": "display_data"
    }
   ],
   "source": [
    "x = df['Goal']\n",
    "y = df['Amount_Raised']\n",
    "\n",
    "plt.plot(x, y, 'o', color = 'black')\n",
    "\n",
    "m, b = np.polyfit(x, y, 1)\n",
    "\n",
    "\n",
    "plt.plot(x, m*x + b)"
   ]
  },
  {
   "cell_type": "markdown",
   "metadata": {},
   "source": [
    "The p-value is very close to 0 so Goal is a strong predictor of Amount_Raised"
   ]
  },
  {
   "cell_type": "code",
   "execution_count": 60,
   "metadata": {},
   "outputs": [
    {
     "name": "stdout",
     "output_type": "stream",
     "text": [
      "                            OLS Regression Results                            \n",
      "==============================================================================\n",
      "Dep. Variable:          Amount_Raised   R-squared:                       0.305\n",
      "Model:                            OLS   Adj. R-squared:                  0.304\n",
      "Method:                 Least Squares   F-statistic:                     327.5\n",
      "Date:                Mon, 09 Nov 2020   Prob (F-statistic):           5.72e-61\n",
      "Time:                        14:18:20   Log-Likelihood:                -927.60\n",
      "No. Observations:                 749   AIC:                             1859.\n",
      "Df Residuals:                     747   BIC:                             1868.\n",
      "Df Model:                           1                                         \n",
      "Covariance Type:            nonrobust                                         \n",
      "==============================================================================\n",
      "                 coef    std err          t      P>|t|      [0.025      0.975]\n",
      "------------------------------------------------------------------------------\n",
      "const          0.0001      0.031      0.004      0.997      -0.060       0.060\n",
      "x1             0.5521      0.031     18.096      0.000       0.492       0.612\n",
      "==============================================================================\n",
      "Omnibus:                     1613.365   Durbin-Watson:                   1.913\n",
      "Prob(Omnibus):                  0.000   Jarque-Bera (JB):          4848886.563\n",
      "Skew:                          17.222   Prob(JB):                         0.00\n",
      "Kurtosis:                     395.664   Cond. No.                         1.00\n",
      "==============================================================================\n",
      "\n",
      "Warnings:\n",
      "[1] Standard Errors assume that the covariance matrix of the errors is correctly specified.\n"
     ]
    }
   ],
   "source": [
    "X2 = sm.add_constant(x.values)\n",
    "est = sm.OLS(y, X2)\n",
    "est2 = est.fit()\n",
    "print(est2.summary())"
   ]
  },
  {
   "cell_type": "code",
   "execution_count": 61,
   "metadata": {},
   "outputs": [],
   "source": [
    "mod = sm.OLS(y, x)\n",
    "fii = mod.fit()\n",
    "p_values = fii.summary2().tables[1]['P>|t|']"
   ]
  },
  {
   "cell_type": "code",
   "execution_count": 62,
   "metadata": {},
   "outputs": [
    {
     "data": {
      "text/plain": [
       "Goal    4.762784e-61\n",
       "Name: P>|t|, dtype: float64"
      ]
     },
     "execution_count": 62,
     "metadata": {},
     "output_type": "execute_result"
    }
   ],
   "source": [
    "p_values"
   ]
  },
  {
   "cell_type": "markdown",
   "metadata": {},
   "source": [
    "### The relationship between Amount_Raised and Followers appears linear"
   ]
  },
  {
   "cell_type": "code",
   "execution_count": 64,
   "metadata": {},
   "outputs": [
    {
     "data": {
      "text/plain": [
       "[<matplotlib.lines.Line2D at 0x1eed9bfeec8>]"
      ]
     },
     "execution_count": 64,
     "metadata": {},
     "output_type": "execute_result"
    },
    {
     "data": {
      "image/png": "[encoded data removed]",
      "text/plain": [
       "<Figure size 432x288 with 1 Axes>"
      ]
     },
     "metadata": {},
     "output_type": "display_data"
    }
   ],
   "source": [
    "x = df['Followers']\n",
    "y = df['Amount_Raised']\n",
    "\n",
    "plt.plot(x, y, 'o', color = 'black')\n",
    "\n",
    "m, b = np.polyfit(x, y, 1)\n",
    "\n",
    "\n",
    "plt.plot(x, m*x + b)"
   ]
  },
  {
   "cell_type": "markdown",
   "metadata": {},
   "source": [
    "The p-value is very close to 0 so Goal is a strong predictor of Amount_Raised"
   ]
  },
  {
   "cell_type": "code",
   "execution_count": 65,
   "metadata": {},
   "outputs": [
    {
     "name": "stdout",
     "output_type": "stream",
     "text": [
      "                            OLS Regression Results                            \n",
      "==============================================================================\n",
      "Dep. Variable:          Amount_Raised   R-squared:                       0.839\n",
      "Model:                            OLS   Adj. R-squared:                  0.839\n",
      "Method:                 Least Squares   F-statistic:                     3902.\n",
      "Date:                Mon, 09 Nov 2020   Prob (F-statistic):          8.76e-299\n",
      "Time:                        14:19:12   Log-Likelihood:                -379.05\n",
      "No. Observations:                 749   AIC:                             762.1\n",
      "Df Residuals:                     747   BIC:                             771.3\n",
      "Df Model:                           1                                         \n",
      "Covariance Type:            nonrobust                                         \n",
      "==============================================================================\n",
      "                 coef    std err          t      P>|t|      [0.025      0.975]\n",
      "------------------------------------------------------------------------------\n",
      "const         -0.0003      0.015     -0.019      0.985      -0.029       0.029\n",
      "x1             0.9115      0.015     62.463      0.000       0.883       0.940\n",
      "==============================================================================\n",
      "Omnibus:                      990.622   Durbin-Watson:                   1.453\n",
      "Prob(Omnibus):                  0.000   Jarque-Bera (JB):           263510.931\n",
      "Skew:                           6.650   Prob(JB):                         0.00\n",
      "Kurtosis:                      93.922   Cond. No.                         1.01\n",
      "==============================================================================\n",
      "\n",
      "Warnings:\n",
      "[1] Standard Errors assume that the covariance matrix of the errors is correctly specified.\n"
     ]
    }
   ],
   "source": [
    "X2 = sm.add_constant(x.values)\n",
    "est = sm.OLS(y, X2)\n",
    "est2 = est.fit()\n",
    "print(est2.summary())"
   ]
  },
  {
   "cell_type": "code",
   "execution_count": 66,
   "metadata": {},
   "outputs": [],
   "source": [
    "mod = sm.OLS(y, x)\n",
    "fii = mod.fit()\n",
    "p_values = fii.summary2().tables[1]['P>|t|']"
   ]
  },
  {
   "cell_type": "code",
   "execution_count": 67,
   "metadata": {},
   "outputs": [
    {
     "data": {
      "text/plain": [
       "Followers    3.508872e-299\n",
       "Name: P>|t|, dtype: float64"
      ]
     },
     "execution_count": 67,
     "metadata": {},
     "output_type": "execute_result"
    }
   ],
   "source": [
    "p_values"
   ]
  },
  {
   "cell_type": "markdown",
   "metadata": {},
   "source": [
    "## Categorical Predictors"
   ]
  },
  {
   "cell_type": "code",
   "execution_count": 86,
   "metadata": {},
   "outputs": [
    {
     "data": {
      "text/plain": [
       "<matplotlib.axes._subplots.AxesSubplot at 0x1eed9e2fb88>"
      ]
     },
     "execution_count": 86,
     "metadata": {},
     "output_type": "execute_result"
    },
    {
     "data": {
      "image/png": "[encoded data removed]",
      "text/plain": [
       "<Figure size 432x288 with 1 Axes>"
      ]
     },
     "metadata": {},
     "output_type": "display_data"
    }
   ],
   "source": [
    "df.boxplot('Amount_Raised', by = 'Category')"
   ]
  },
  {
   "cell_type": "code",
   "execution_count": 87,
   "metadata": {},
   "outputs": [
    {
     "data": {
      "text/plain": [
       "(-1, 5)"
      ]
     },
     "execution_count": 87,
     "metadata": {},
     "output_type": "execute_result"
    },
    {
     "data": {
      "image/png": "[encoded data removed]",
      "text/plain": [
       "<Figure size 432x288 with 1 Axes>"
      ]
     },
     "metadata": {},
     "output_type": "display_data"
    }
   ],
   "source": [
    "df.boxplot('Amount_Raised', by = 'Category')\n",
    "plt.ylim(-1, 5)"
   ]
  },
  {
   "cell_type": "code",
   "execution_count": 83,
   "metadata": {},
   "outputs": [],
   "source": [
    "cat_subset = df[['Category', 'Amount_Raised']]\n",
    "grps = pd.unique(cat_subset['Category'])\n",
    "l_data = [cat_subset['Amount_Raised'][cat_subset['Category'] == grp] for grp in grps]\n",
    "f, p = stats.f_oneway(*l_data)"
   ]
  },
  {
   "cell_type": "code",
   "execution_count": 84,
   "metadata": {},
   "outputs": [
    {
     "data": {
      "text/plain": [
       "(7.986292463206721, 4.360373322618361e-15)"
      ]
     },
     "execution_count": 84,
     "metadata": {},
     "output_type": "execute_result"
    }
   ],
   "source": [
    "f, p"
   ]
  },
  {
   "cell_type": "code",
   "execution_count": null,
   "metadata": {},
   "outputs": [],
   "source": []
  },
  {
   "cell_type": "code",
   "execution_count": 142,
   "metadata": {},
   "outputs": [
    {
     "data": {
      "image/png": "[encoded data removed]",
      "text/plain": [
       "<Figure size 432x288 with 2 Axes>"
      ]
     },
     "metadata": {},
     "output_type": "display_data"
    }
   ],
   "source": [
    "sn.heatmap(df.corr(), annot = True)\n",
    "plt.show()"
   ]
  },
  {
   "cell_type": "code",
   "execution_count": null,
   "metadata": {},
   "outputs": [],
   "source": []
  }
 ],
 "metadata": {
  "kernelspec": {
   "display_name": "Python 3",
   "language": "python",
   "name": "python3"
  },
  "language_info": {
   "codemirror_mode": {
    "name": "ipython",
    "version": 3
   },
   "file_extension": ".py",
   "mimetype": "text/x-python",
   "name": "python",
   "nbconvert_exporter": "python",
   "pygments_lexer": "ipython3",
   "version": "3.7.4"
  }
 },
 "nbformat": 4,
 "nbformat_minor": 2
}
