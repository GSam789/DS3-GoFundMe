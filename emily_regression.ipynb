{
 "cells": [
  {
   "cell_type": "code",
   "execution_count": 109,
   "metadata": {},
   "outputs": [
    {
     "data": {
      "text/html": [
       "<div>\n",
       "<style scoped>\n",
       "    .dataframe tbody tr th:only-of-type {\n",
       "        vertical-align: middle;\n",
       "    }\n",
       "\n",
       "    .dataframe tbody tr th {\n",
       "        vertical-align: top;\n",
       "    }\n",
       "\n",
       "    .dataframe thead th {\n",
       "        text-align: right;\n",
       "    }\n",
       "</style>\n",
       "<table border=\"1\" class=\"dataframe\">\n",
       "  <thead>\n",
       "    <tr style=\"text-align: right;\">\n",
       "      <th></th>\n",
       "      <th>Unnamed: 0</th>\n",
       "      <th>Url</th>\n",
       "      <th>Category</th>\n",
       "      <th>Position</th>\n",
       "      <th>Title</th>\n",
       "      <th>Location</th>\n",
       "      <th>Amount_Raised</th>\n",
       "      <th>Goal</th>\n",
       "      <th>Number_of_Donations</th>\n",
       "      <th>Length_of_Fundraising</th>\n",
       "      <th>FB_Shares</th>\n",
       "      <th>Number_of_Donors</th>\n",
       "      <th>Followers</th>\n",
       "      <th>Text</th>\n",
       "    </tr>\n",
       "  </thead>\n",
       "  <tbody>\n",
       "    <tr>\n",
       "      <th>0</th>\n",
       "      <td>0</td>\n",
       "      <td>https://www.gofundme.com/f/justiceforjacobblake</td>\n",
       "      <td>Medical</td>\n",
       "      <td>0</td>\n",
       "      <td>Justice for Jacob Blake</td>\n",
       "      <td>Kenosha, WI</td>\n",
       "      <td>2296580.0</td>\n",
       "      <td>3000000.0</td>\n",
       "      <td>72900.0</td>\n",
       "      <td>-0.680095</td>\n",
       "      <td>118000.0</td>\n",
       "      <td>72500.0</td>\n",
       "      <td>73400.0</td>\n",
       "      <td>On August 23rd my son was shot multiple times ...</td>\n",
       "    </tr>\n",
       "    <tr>\n",
       "      <th>1</th>\n",
       "      <td>0</td>\n",
       "      <td>https://www.gofundme.com/f/official-navajo-nat...</td>\n",
       "      <td>Medical</td>\n",
       "      <td>0</td>\n",
       "      <td>Official Navajo Nation COVID-19 Relief Fund</td>\n",
       "      <td>Window Rock, AZ</td>\n",
       "      <td>1831590.0</td>\n",
       "      <td>1000000.0</td>\n",
       "      <td>22000.0</td>\n",
       "      <td>1.655223</td>\n",
       "      <td>71300.0</td>\n",
       "      <td>21500.0</td>\n",
       "      <td>21600.0</td>\n",
       "      <td>\\nThe Navajo Nation COVID-19 Fund has been est...</td>\n",
       "    </tr>\n",
       "    <tr>\n",
       "      <th>2</th>\n",
       "      <td>0</td>\n",
       "      <td>https://www.gofundme.com/f/Tommy-Rivers-Rest-Up</td>\n",
       "      <td>Medical</td>\n",
       "      <td>0</td>\n",
       "      <td>Rest up, Tommy, we'll see you soon</td>\n",
       "      <td>Raised $105,973 from 1795 donations</td>\n",
       "      <td>652554.0</td>\n",
       "      <td>1000000.0</td>\n",
       "      <td>11000.0</td>\n",
       "      <td>0.112245</td>\n",
       "      <td>20800.0</td>\n",
       "      <td>10100.0</td>\n",
       "      <td>10200.0</td>\n",
       "      <td>First, thank you for being here. Tommy Rivers ...</td>\n",
       "    </tr>\n",
       "    <tr>\n",
       "      <th>3</th>\n",
       "      <td>0</td>\n",
       "      <td>https://www.gofundme.com/f/brandon039s-medical...</td>\n",
       "      <td>Medical</td>\n",
       "      <td>1</td>\n",
       "      <td>OFFICIAL BRANDON SAENZ MEDICAL FUND</td>\n",
       "      <td>Tyler, TX</td>\n",
       "      <td>570299.0</td>\n",
       "      <td>750000.0</td>\n",
       "      <td>24700.0</td>\n",
       "      <td>1.029692</td>\n",
       "      <td>5500.0</td>\n",
       "      <td>24300.0</td>\n",
       "      <td>24500.0</td>\n",
       "      <td>My name is Melissa Green and I am the mother o...</td>\n",
       "    </tr>\n",
       "    <tr>\n",
       "      <th>4</th>\n",
       "      <td>0</td>\n",
       "      <td>https://www.gofundme.com/f/please-help-me-in-t...</td>\n",
       "      <td>Medical</td>\n",
       "      <td>1</td>\n",
       "      <td>PLEASE HELP ME IN THE BATTLE FOR MY LIFE</td>\n",
       "      <td>New Milford, NJ</td>\n",
       "      <td>498256.0</td>\n",
       "      <td>600000.0</td>\n",
       "      <td>7800.0</td>\n",
       "      <td>-1.764350</td>\n",
       "      <td>6600.0</td>\n",
       "      <td>7700.0</td>\n",
       "      <td>7900.0</td>\n",
       "      <td>PLEASE HELP ME IN THE BATTLE FOR MY LIFE. My n...</td>\n",
       "    </tr>\n",
       "    <tr>\n",
       "      <th>...</th>\n",
       "      <td>...</td>\n",
       "      <td>...</td>\n",
       "      <td>...</td>\n",
       "      <td>...</td>\n",
       "      <td>...</td>\n",
       "      <td>...</td>\n",
       "      <td>...</td>\n",
       "      <td>...</td>\n",
       "      <td>...</td>\n",
       "      <td>...</td>\n",
       "      <td>...</td>\n",
       "      <td>...</td>\n",
       "      <td>...</td>\n",
       "      <td>...</td>\n",
       "    </tr>\n",
       "    <tr>\n",
       "      <th>775</th>\n",
       "      <td>0</td>\n",
       "      <td>https://www.gofundme.com/f/breelynnstrong</td>\n",
       "      <td>Wishes</td>\n",
       "      <td>14</td>\n",
       "      <td>#breelynnstrong</td>\n",
       "      <td>Jamestown, IN</td>\n",
       "      <td>24374.0</td>\n",
       "      <td>30000.0</td>\n",
       "      <td>420.0</td>\n",
       "      <td>NaN</td>\n",
       "      <td>1400.0</td>\n",
       "      <td>418.0</td>\n",
       "      <td>419.0</td>\n",
       "      <td>\\n#breelynnstrongDiffuse midline glioma, also ...</td>\n",
       "    </tr>\n",
       "    <tr>\n",
       "      <th>776</th>\n",
       "      <td>0</td>\n",
       "      <td>https://www.gofundme.com/f/rebecca-trimble-mak...</td>\n",
       "      <td>Wishes</td>\n",
       "      <td>14</td>\n",
       "      <td>Rebecca Trimble - Make America \"Home\" - Legal ...</td>\n",
       "      <td>Bethel, AK</td>\n",
       "      <td>24162.0</td>\n",
       "      <td>25000.0</td>\n",
       "      <td>275.0</td>\n",
       "      <td>NaN</td>\n",
       "      <td>2600.0</td>\n",
       "      <td>272.0</td>\n",
       "      <td>274.0</td>\n",
       "      <td>A Woman Without A Country - New York Times Art...</td>\n",
       "    </tr>\n",
       "    <tr>\n",
       "      <th>777</th>\n",
       "      <td>0</td>\n",
       "      <td>https://www.gofundme.com/f/help-mr-walter-get-...</td>\n",
       "      <td>Wishes</td>\n",
       "      <td>15</td>\n",
       "      <td>(TEMP. ON PAUSE) Help Mr Walter get A NEW HOME!!</td>\n",
       "      <td>Tallahassee, FL</td>\n",
       "      <td>23565.0</td>\n",
       "      <td>100000.0</td>\n",
       "      <td>1100.0</td>\n",
       "      <td>NaN</td>\n",
       "      <td>3900.0</td>\n",
       "      <td>1100.0</td>\n",
       "      <td>1100.0</td>\n",
       "      <td>***EDIT: This fundraiser is temporarily on pau...</td>\n",
       "    </tr>\n",
       "    <tr>\n",
       "      <th>778</th>\n",
       "      <td>0</td>\n",
       "      <td>https://www.gofundme.com/f/Aylas-Fundraiser</td>\n",
       "      <td>Wishes</td>\n",
       "      <td>15</td>\n",
       "      <td>Ayla’s Fundraiser</td>\n",
       "      <td>North Grafton, MA</td>\n",
       "      <td>22825.0</td>\n",
       "      <td>1000.0</td>\n",
       "      <td>352.0</td>\n",
       "      <td>NaN</td>\n",
       "      <td>1700.0</td>\n",
       "      <td>347.0</td>\n",
       "      <td>349.0</td>\n",
       "      <td>My niece Megan was recently taken from us and ...</td>\n",
       "    </tr>\n",
       "    <tr>\n",
       "      <th>779</th>\n",
       "      <td>0</td>\n",
       "      <td>https://www.gofundme.com/f/21mq91ujxc</td>\n",
       "      <td>Wishes</td>\n",
       "      <td>15</td>\n",
       "      <td>Amari’s Transition Fund</td>\n",
       "      <td>Manchester, GA</td>\n",
       "      <td>22090.0</td>\n",
       "      <td>30000.0</td>\n",
       "      <td>1000.0</td>\n",
       "      <td>NaN</td>\n",
       "      <td>50.0</td>\n",
       "      <td>992.0</td>\n",
       "      <td>991.0</td>\n",
       "      <td>I’m Amari! I’m 22 years old and I’m a black tr...</td>\n",
       "    </tr>\n",
       "  </tbody>\n",
       "</table>\n",
       "<p>749 rows × 14 columns</p>\n",
       "</div>"
      ],
      "text/plain": [
       "     Unnamed: 0                                                Url Category  \\\n",
       "0             0    https://www.gofundme.com/f/justiceforjacobblake  Medical   \n",
       "1             0  https://www.gofundme.com/f/official-navajo-nat...  Medical   \n",
       "2             0    https://www.gofundme.com/f/Tommy-Rivers-Rest-Up  Medical   \n",
       "3             0  https://www.gofundme.com/f/brandon039s-medical...  Medical   \n",
       "4             0  https://www.gofundme.com/f/please-help-me-in-t...  Medical   \n",
       "..          ...                                                ...      ...   \n",
       "775           0          https://www.gofundme.com/f/breelynnstrong   Wishes   \n",
       "776           0  https://www.gofundme.com/f/rebecca-trimble-mak...   Wishes   \n",
       "777           0  https://www.gofundme.com/f/help-mr-walter-get-...   Wishes   \n",
       "778           0        https://www.gofundme.com/f/Aylas-Fundraiser   Wishes   \n",
       "779           0              https://www.gofundme.com/f/21mq91ujxc   Wishes   \n",
       "\n",
       "     Position                                              Title  \\\n",
       "0           0                            Justice for Jacob Blake   \n",
       "1           0        Official Navajo Nation COVID-19 Relief Fund   \n",
       "2           0                 Rest up, Tommy, we'll see you soon   \n",
       "3           1                OFFICIAL BRANDON SAENZ MEDICAL FUND   \n",
       "4           1           PLEASE HELP ME IN THE BATTLE FOR MY LIFE   \n",
       "..        ...                                                ...   \n",
       "775        14                                    #breelynnstrong   \n",
       "776        14  Rebecca Trimble - Make America \"Home\" - Legal ...   \n",
       "777        15   (TEMP. ON PAUSE) Help Mr Walter get A NEW HOME!!   \n",
       "778        15                                  Ayla’s Fundraiser   \n",
       "779        15                            Amari’s Transition Fund   \n",
       "\n",
       "                                Location  Amount_Raised       Goal  \\\n",
       "0                            Kenosha, WI      2296580.0  3000000.0   \n",
       "1                        Window Rock, AZ      1831590.0  1000000.0   \n",
       "2    Raised $105,973 from 1795 donations       652554.0  1000000.0   \n",
       "3                              Tyler, TX       570299.0   750000.0   \n",
       "4                        New Milford, NJ       498256.0   600000.0   \n",
       "..                                   ...            ...        ...   \n",
       "775                        Jamestown, IN        24374.0    30000.0   \n",
       "776                           Bethel, AK        24162.0    25000.0   \n",
       "777                      Tallahassee, FL        23565.0   100000.0   \n",
       "778                    North Grafton, MA        22825.0     1000.0   \n",
       "779                       Manchester, GA        22090.0    30000.0   \n",
       "\n",
       "     Number_of_Donations  Length_of_Fundraising  FB_Shares  Number_of_Donors  \\\n",
       "0                72900.0              -0.680095   118000.0           72500.0   \n",
       "1                22000.0               1.655223    71300.0           21500.0   \n",
       "2                11000.0               0.112245    20800.0           10100.0   \n",
       "3                24700.0               1.029692     5500.0           24300.0   \n",
       "4                 7800.0              -1.764350     6600.0            7700.0   \n",
       "..                   ...                    ...        ...               ...   \n",
       "775                420.0                    NaN     1400.0             418.0   \n",
       "776                275.0                    NaN     2600.0             272.0   \n",
       "777               1100.0                    NaN     3900.0            1100.0   \n",
       "778                352.0                    NaN     1700.0             347.0   \n",
       "779               1000.0                    NaN       50.0             992.0   \n",
       "\n",
       "     Followers                                               Text  \n",
       "0      73400.0  On August 23rd my son was shot multiple times ...  \n",
       "1      21600.0  \\nThe Navajo Nation COVID-19 Fund has been est...  \n",
       "2      10200.0  First, thank you for being here. Tommy Rivers ...  \n",
       "3      24500.0  My name is Melissa Green and I am the mother o...  \n",
       "4       7900.0  PLEASE HELP ME IN THE BATTLE FOR MY LIFE. My n...  \n",
       "..         ...                                                ...  \n",
       "775      419.0  \\n#breelynnstrongDiffuse midline glioma, also ...  \n",
       "776      274.0  A Woman Without A Country - New York Times Art...  \n",
       "777     1100.0  ***EDIT: This fundraiser is temporarily on pau...  \n",
       "778      349.0  My niece Megan was recently taken from us and ...  \n",
       "779      991.0  I’m Amari! I’m 22 years old and I’m a black tr...  \n",
       "\n",
       "[749 rows x 14 columns]"
      ]
     },
     "execution_count": 109,
     "metadata": {},
     "output_type": "execute_result"
    }
   ],
   "source": [
    "\n",
    "%matplotlib inline\n",
    "import pandas as pd\n",
    "import numpy as np\n",
    "import matplotlib.pyplot as plt\n",
    "plt.style.use('seaborn-whitegrid')\n",
    "from sklearn.linear_model import LinearRegression\n",
    "from sklearn.metrics import r2_score\n",
    "import statsmodels.api as sm\n",
    "\n",
    "df = pd.read_csv('GFM_data.csv', sep = '\\t')\n",
    "\n",
    "def helper(x):\n",
    "    ## if string will make numeric\n",
    "    if isinstance(x,str):\n",
    "        x = x.replace(',','')\n",
    "        ## if has \".1k\" will change to numeric\n",
    "        if '.' in x and 'K' in x:\n",
    "            x = x.replace('.','')\n",
    "            x = x.replace('K','00')\n",
    "        ## if \"k\" will change to numeric\n",
    "        if 'K' in x:\n",
    "            x = x.replace('K','000')\n",
    "        return x\n",
    "    ## return nan\n",
    "    else:\n",
    "        return x\n",
    "\n",
    "\n",
    "df['Number_of_Donations'] = df['Number_of_Donations'].apply(helper).astype(float)\n",
    "df['FB_Shares'] = df['FB_Shares'].apply(helper).astype(float)\n",
    "df['Number_of_Donors'] = df['Number_of_Donors'].apply(helper).astype(float)\n",
    "df['Followers'] = df['Followers'].apply(helper).astype(float)\n",
    "df = df.dropna()\n",
    "df['Length_of_Fundraising']= df['Length_of_Fundraising'].apply(lambda x: int(x[:-24]))\n",
    "df['Length_of_Fundraising'] = pd.Series(preprocessing.scale(df['Length_of_Fundraising'].values))\n",
    "df"
   ]
  },
  {
   "cell_type": "code",
   "execution_count": 110,
   "metadata": {},
   "outputs": [
    {
     "data": {
      "text/plain": [
       "[<matplotlib.lines.Line2D at 0x7fe4e25e45b0>]"
      ]
     },
     "execution_count": 110,
     "metadata": {},
     "output_type": "execute_result"
    },
    {
     "data": {
      "image/png": "[encoded data removed]",
      "text/plain": [
       "<Figure size 432x288 with 1 Axes>"
      ]
     },
     "metadata": {},
     "output_type": "display_data"
    }
   ],
   "source": [
    "x = df['Number_of_Donations']\n",
    "y = df['Amount_Raised']\n",
    "plt.plot(x, y, 'o', color='black')\n",
    "\n",
    "#obtain m (slope) and b(intercept) of linear regression line\n",
    "m, b = np.polyfit(x, y, 1)\n",
    "\n",
    "#use red as color for regression line\n",
    "plt.plot(x, m*x+b, color='red')"
   ]
  },
  {
   "cell_type": "code",
   "execution_count": 124,
   "metadata": {},
   "outputs": [
    {
     "name": "stdout",
     "output_type": "stream",
     "text": [
      "                            OLS Regression Results                            \n",
      "==============================================================================\n",
      "Dep. Variable:          Amount_Raised   R-squared:                       0.839\n",
      "Model:                            OLS   Adj. R-squared:                  0.839\n",
      "Method:                 Least Squares   F-statistic:                     3902.\n",
      "Date:                Mon, 09 Nov 2020   Prob (F-statistic):          8.76e-299\n",
      "Time:                        15:09:02   Log-Likelihood:                -9900.3\n",
      "No. Observations:                 749   AIC:                         1.980e+04\n",
      "Df Residuals:                     747   BIC:                         1.981e+04\n",
      "Df Model:                           1                                         \n",
      "Covariance Type:            nonrobust                                         \n",
      "==============================================================================\n",
      "                 coef    std err          t      P>|t|      [0.025      0.975]\n",
      "------------------------------------------------------------------------------\n",
      "const       4.713e+04   4950.165      9.522      0.000    3.74e+04    5.69e+04\n",
      "x1            31.5168      0.505     62.463      0.000      30.526      32.507\n",
      "==============================================================================\n",
      "Omnibus:                      990.622   Durbin-Watson:                   1.453\n",
      "Prob(Omnibus):                  0.000   Jarque-Bera (JB):           263510.931\n",
      "Skew:                           6.650   Prob(JB):                         0.00\n",
      "Kurtosis:                      93.922   Cond. No.                     9.97e+03\n",
      "==============================================================================\n",
      "\n",
      "Warnings:\n",
      "[1] Standard Errors assume that the covariance matrix of the errors is correctly specified.\n",
      "[2] The condition number is large, 9.97e+03. This might indicate that there are\n",
      "strong multicollinearity or other numerical problems.\n"
     ]
    }
   ],
   "source": [
    "mod = sm.OLS(df['Amount_Raised'], df['Number_of_Donations'])\n",
    "fii = mod.fit()\n",
    "p_values = fii.summary2().tables[1]['P>|t|']\n",
    "X2 = sm.add_constant(x.values)\n",
    "est = sm.OLS(y, X2)\n",
    "est2 = est.fit()\n",
    "print(est2.summary())"
   ]
  },
  {
   "cell_type": "code",
   "execution_count": 125,
   "metadata": {},
   "outputs": [
    {
     "data": {
      "text/plain": [
       "Number_of_Donations    4.017380e-315\n",
       "Name: P>|t|, dtype: float64"
      ]
     },
     "execution_count": 125,
     "metadata": {},
     "output_type": "execute_result"
    }
   ],
   "source": [
    "p_values"
   ]
  },
  {
   "cell_type": "code",
   "execution_count": 126,
   "metadata": {},
   "outputs": [
    {
     "name": "stderr",
     "output_type": "stream",
     "text": [
      "/opt/anaconda3/lib/python3.8/site-packages/statsmodels/stats/stattools.py:46: RuntimeWarning: invalid value encountered in double_scalars\n",
      "  dw = np.sum(diff_resids**2, axis=axis) / np.sum(resids**2, axis=axis)\n",
      "/opt/anaconda3/lib/python3.8/site-packages/statsmodels/base/model.py:1362: RuntimeWarning: divide by zero encountered in true_divide\n",
      "  return self.params / self.bse\n",
      "/opt/anaconda3/lib/python3.8/site-packages/statsmodels/regression/linear_model.py:889: RuntimeWarning: divide by zero encountered in log\n",
      "  llf = -nobs2*np.log(2*np.pi) - nobs2*np.log(ssr / nobs) - nobs2\n",
      "/opt/anaconda3/lib/python3.8/site-packages/statsmodels/regression/linear_model.py:1774: RuntimeWarning: divide by zero encountered in double_scalars\n",
      "  return self.mse_model/self.mse_resid\n"
     ]
    },
    {
     "data": {
      "image/png": "[encoded data removed]",
      "text/plain": [
       "<Figure size 432x288 with 1 Axes>"
      ]
     },
     "metadata": {},
     "output_type": "display_data"
    }
   ],
   "source": [
    "x = df['Followers']\n",
    "y = df['Amount_Raised']\n",
    "plt.plot(x, y, 'o', color='black')\n",
    "\n",
    "#obtain m (slope) and b(intercept) of linear regression line\n",
    "m, b = np.polyfit(x, y, 1)\n",
    "\n",
    "#use red as color for regression line\n",
    "plt.plot(x, m*x+b, color='red')\n",
    "mod = sm.OLS(df['Followers'], df['Followers'])\n",
    "fii = mod.fit()\n",
    "p_values = fii.summary2().tables[1]['P>|t|']"
   ]
  },
  {
   "cell_type": "code",
   "execution_count": 127,
   "metadata": {},
   "outputs": [
    {
     "name": "stdout",
     "output_type": "stream",
     "text": [
      "                            OLS Regression Results                            \n",
      "==============================================================================\n",
      "Dep. Variable:          Amount_Raised   R-squared:                       0.839\n",
      "Model:                            OLS   Adj. R-squared:                  0.839\n",
      "Method:                 Least Squares   F-statistic:                     3902.\n",
      "Date:                Mon, 09 Nov 2020   Prob (F-statistic):          8.76e-299\n",
      "Time:                        15:09:12   Log-Likelihood:                -9900.3\n",
      "No. Observations:                 749   AIC:                         1.980e+04\n",
      "Df Residuals:                     747   BIC:                         1.981e+04\n",
      "Df Model:                           1                                         \n",
      "Covariance Type:            nonrobust                                         \n",
      "==============================================================================\n",
      "                 coef    std err          t      P>|t|      [0.025      0.975]\n",
      "------------------------------------------------------------------------------\n",
      "const       4.713e+04   4950.165      9.522      0.000    3.74e+04    5.69e+04\n",
      "x1            31.5168      0.505     62.463      0.000      30.526      32.507\n",
      "==============================================================================\n",
      "Omnibus:                      990.622   Durbin-Watson:                   1.453\n",
      "Prob(Omnibus):                  0.000   Jarque-Bera (JB):           263510.931\n",
      "Skew:                           6.650   Prob(JB):                         0.00\n",
      "Kurtosis:                      93.922   Cond. No.                     9.97e+03\n",
      "==============================================================================\n",
      "\n",
      "Warnings:\n",
      "[1] Standard Errors assume that the covariance matrix of the errors is correctly specified.\n",
      "[2] The condition number is large, 9.97e+03. This might indicate that there are\n",
      "strong multicollinearity or other numerical problems.\n"
     ]
    }
   ],
   "source": [
    "mod = sm.OLS(df['Followers'], df['Amount_Raised'])\n",
    "fii = mod.fit()\n",
    "p_values = fii.summary2().tables[1]['P>|t|']\n",
    "X2 = sm.add_constant(x.values)\n",
    "est = sm.OLS(y, X2)\n",
    "est2 = est.fit()\n",
    "print(est2.summary())"
   ]
  },
  {
   "cell_type": "code",
   "execution_count": 128,
   "metadata": {},
   "outputs": [
    {
     "data": {
      "text/plain": [
       "Amount_Raised    3.013380e-295\n",
       "Name: P>|t|, dtype: float64"
      ]
     },
     "execution_count": 128,
     "metadata": {},
     "output_type": "execute_result"
    }
   ],
   "source": [
    "p_values"
   ]
  },
  {
   "cell_type": "code",
   "execution_count": 63,
   "metadata": {},
   "outputs": [
    {
     "data": {
      "text/plain": [
       "[<matplotlib.lines.Line2D at 0x7fa5de1ac610>]"
      ]
     },
     "execution_count": 63,
     "metadata": {},
     "output_type": "execute_result"
    },
    {
     "data": {
      "image/png": "[encoded data removed]",
      "text/plain": [
       "<Figure size 432x288 with 1 Axes>"
      ]
     },
     "metadata": {},
     "output_type": "display_data"
    }
   ],
   "source": [
    "x = df['FB_Shares']\n",
    "y = df['Amount_Raised']\n",
    "plt.plot(x, y, 'o', color='black')\n",
    "\n",
    "#obtain m (slope) and b(intercept) of linear regression line\n",
    "m, b = np.polyfit(x, y, 1)\n",
    "\n",
    "#use red as color for regression line\n",
    "plt.plot(x, m*x+b, color='red')"
   ]
  },
  {
   "cell_type": "code",
   "execution_count": 129,
   "metadata": {},
   "outputs": [
    {
     "name": "stdout",
     "output_type": "stream",
     "text": [
      "                            OLS Regression Results                            \n",
      "==============================================================================\n",
      "Dep. Variable:          Amount_Raised   R-squared:                       0.839\n",
      "Model:                            OLS   Adj. R-squared:                  0.839\n",
      "Method:                 Least Squares   F-statistic:                     3902.\n",
      "Date:                Mon, 09 Nov 2020   Prob (F-statistic):          8.76e-299\n",
      "Time:                        15:09:43   Log-Likelihood:                -9900.3\n",
      "No. Observations:                 749   AIC:                         1.980e+04\n",
      "Df Residuals:                     747   BIC:                         1.981e+04\n",
      "Df Model:                           1                                         \n",
      "Covariance Type:            nonrobust                                         \n",
      "==============================================================================\n",
      "                 coef    std err          t      P>|t|      [0.025      0.975]\n",
      "------------------------------------------------------------------------------\n",
      "const       4.713e+04   4950.165      9.522      0.000    3.74e+04    5.69e+04\n",
      "x1            31.5168      0.505     62.463      0.000      30.526      32.507\n",
      "==============================================================================\n",
      "Omnibus:                      990.622   Durbin-Watson:                   1.453\n",
      "Prob(Omnibus):                  0.000   Jarque-Bera (JB):           263510.931\n",
      "Skew:                           6.650   Prob(JB):                         0.00\n",
      "Kurtosis:                      93.922   Cond. No.                     9.97e+03\n",
      "==============================================================================\n",
      "\n",
      "Warnings:\n",
      "[1] Standard Errors assume that the covariance matrix of the errors is correctly specified.\n",
      "[2] The condition number is large, 9.97e+03. This might indicate that there are\n",
      "strong multicollinearity or other numerical problems.\n"
     ]
    }
   ],
   "source": [
    "mod = sm.OLS(df['FB_Shares'], df['Amount_Raised'])\n",
    "fii = mod.fit()\n",
    "p_values = fii.summary2().tables[1]['P>|t|']\n",
    "X2 = sm.add_constant(x.values)\n",
    "est = sm.OLS(y, X2)\n",
    "est2 = est.fit()\n",
    "print(est2.summary())"
   ]
  },
  {
   "cell_type": "code",
   "execution_count": 130,
   "metadata": {},
   "outputs": [
    {
     "data": {
      "text/plain": [
       "Amount_Raised    1.194993e-100\n",
       "Name: P>|t|, dtype: float64"
      ]
     },
     "execution_count": 130,
     "metadata": {},
     "output_type": "execute_result"
    }
   ],
   "source": [
    "p_values"
   ]
  },
  {
   "cell_type": "code",
   "execution_count": 66,
   "metadata": {},
   "outputs": [
    {
     "data": {
      "text/plain": [
       "[<matplotlib.lines.Line2D at 0x7fa5de383c10>]"
      ]
     },
     "execution_count": 66,
     "metadata": {},
     "output_type": "execute_result"
    },
    {
     "data": {
      "image/png": "[encoded data removed]",
      "text/plain": [
       "<Figure size 432x288 with 1 Axes>"
      ]
     },
     "metadata": {},
     "output_type": "display_data"
    }
   ],
   "source": [
    "x = df['Number_of_Donors']\n",
    "y = df['Amount_Raised']\n",
    "plt.plot(x, y, 'o', color='black')\n",
    "\n",
    "#obtain m (slope) and b(intercept) of linear regression line\n",
    "m, b = np.polyfit(x, y, 1)\n",
    "\n",
    "#use red as color for regression line\n",
    "plt.plot(x, m*x+b, color='red')"
   ]
  },
  {
   "cell_type": "code",
   "execution_count": 131,
   "metadata": {},
   "outputs": [
    {
     "name": "stdout",
     "output_type": "stream",
     "text": [
      "                            OLS Regression Results                            \n",
      "==============================================================================\n",
      "Dep. Variable:          Amount_Raised   R-squared:                       0.839\n",
      "Model:                            OLS   Adj. R-squared:                  0.839\n",
      "Method:                 Least Squares   F-statistic:                     3902.\n",
      "Date:                Mon, 09 Nov 2020   Prob (F-statistic):          8.76e-299\n",
      "Time:                        15:10:20   Log-Likelihood:                -9900.3\n",
      "No. Observations:                 749   AIC:                         1.980e+04\n",
      "Df Residuals:                     747   BIC:                         1.981e+04\n",
      "Df Model:                           1                                         \n",
      "Covariance Type:            nonrobust                                         \n",
      "==============================================================================\n",
      "                 coef    std err          t      P>|t|      [0.025      0.975]\n",
      "------------------------------------------------------------------------------\n",
      "const       4.713e+04   4950.165      9.522      0.000    3.74e+04    5.69e+04\n",
      "x1            31.5168      0.505     62.463      0.000      30.526      32.507\n",
      "==============================================================================\n",
      "Omnibus:                      990.622   Durbin-Watson:                   1.453\n",
      "Prob(Omnibus):                  0.000   Jarque-Bera (JB):           263510.931\n",
      "Skew:                           6.650   Prob(JB):                         0.00\n",
      "Kurtosis:                      93.922   Cond. No.                     9.97e+03\n",
      "==============================================================================\n",
      "\n",
      "Warnings:\n",
      "[1] Standard Errors assume that the covariance matrix of the errors is correctly specified.\n",
      "[2] The condition number is large, 9.97e+03. This might indicate that there are\n",
      "strong multicollinearity or other numerical problems.\n"
     ]
    }
   ],
   "source": [
    "mod = sm.OLS(df['Number_of_Donors'], df['Amount_Raised'])\n",
    "fii = mod.fit()\n",
    "p_values = fii.summary2().tables[1]['P>|t|']\n",
    "X2 = sm.add_constant(x.values)\n",
    "est = sm.OLS(y, X2)\n",
    "est2 = est.fit()\n",
    "print(est2.summary())"
   ]
  },
  {
   "cell_type": "code",
   "execution_count": 132,
   "metadata": {},
   "outputs": [
    {
     "data": {
      "text/plain": [
       "Amount_Raised    1.636532e-307\n",
       "Name: P>|t|, dtype: float64"
      ]
     },
     "execution_count": 132,
     "metadata": {},
     "output_type": "execute_result"
    }
   ],
   "source": [
    "p_values"
   ]
  },
  {
   "cell_type": "code",
   "execution_count": 42,
   "metadata": {},
   "outputs": [
    {
     "data": {
      "text/html": [
       "<div>\n",
       "<style scoped>\n",
       "    .dataframe tbody tr th:only-of-type {\n",
       "        vertical-align: middle;\n",
       "    }\n",
       "\n",
       "    .dataframe tbody tr th {\n",
       "        vertical-align: top;\n",
       "    }\n",
       "\n",
       "    .dataframe thead th {\n",
       "        text-align: right;\n",
       "    }\n",
       "</style>\n",
       "<table border=\"1\" class=\"dataframe\">\n",
       "  <thead>\n",
       "    <tr style=\"text-align: right;\">\n",
       "      <th></th>\n",
       "      <th>Unnamed: 0</th>\n",
       "      <th>Position</th>\n",
       "      <th>Amount_Raised</th>\n",
       "      <th>Goal</th>\n",
       "      <th>Number_of_Donations</th>\n",
       "      <th>FB_Shares</th>\n",
       "      <th>Number_of_Donors</th>\n",
       "      <th>Followers</th>\n",
       "    </tr>\n",
       "    <tr>\n",
       "      <th>Category</th>\n",
       "      <th></th>\n",
       "      <th></th>\n",
       "      <th></th>\n",
       "      <th></th>\n",
       "      <th></th>\n",
       "      <th></th>\n",
       "      <th></th>\n",
       "      <th></th>\n",
       "    </tr>\n",
       "  </thead>\n",
       "  <tbody>\n",
       "    <tr>\n",
       "      <th>Competition</th>\n",
       "      <td>0.0</td>\n",
       "      <td>11.536232</td>\n",
       "      <td>2822.420290</td>\n",
       "      <td>4790.579710</td>\n",
       "      <td>32.898551</td>\n",
       "      <td>140.985507</td>\n",
       "      <td>32.101449</td>\n",
       "      <td>32.028986</td>\n",
       "    </tr>\n",
       "    <tr>\n",
       "      <th>Newlywed</th>\n",
       "      <td>0.0</td>\n",
       "      <td>11.557143</td>\n",
       "      <td>3927.542857</td>\n",
       "      <td>20586.514286</td>\n",
       "      <td>36.185714</td>\n",
       "      <td>100.285714</td>\n",
       "      <td>35.042857</td>\n",
       "      <td>34.485714</td>\n",
       "    </tr>\n",
       "    <tr>\n",
       "      <th>Travel</th>\n",
       "      <td>0.0</td>\n",
       "      <td>11.215385</td>\n",
       "      <td>9437.784615</td>\n",
       "      <td>12519.400000</td>\n",
       "      <td>107.353846</td>\n",
       "      <td>334.815385</td>\n",
       "      <td>99.076923</td>\n",
       "      <td>92.200000</td>\n",
       "    </tr>\n",
       "    <tr>\n",
       "      <th>Event</th>\n",
       "      <td>0.0</td>\n",
       "      <td>9.563636</td>\n",
       "      <td>15469.745455</td>\n",
       "      <td>40340.654545</td>\n",
       "      <td>179.545455</td>\n",
       "      <td>619.709091</td>\n",
       "      <td>175.672727</td>\n",
       "      <td>175.054545</td>\n",
       "    </tr>\n",
       "    <tr>\n",
       "      <th>Sports</th>\n",
       "      <td>0.0</td>\n",
       "      <td>11.366197</td>\n",
       "      <td>25214.140845</td>\n",
       "      <td>53612.957746</td>\n",
       "      <td>209.014085</td>\n",
       "      <td>585.084507</td>\n",
       "      <td>201.619718</td>\n",
       "      <td>200.774648</td>\n",
       "    </tr>\n",
       "    <tr>\n",
       "      <th>Faith</th>\n",
       "      <td>0.0</td>\n",
       "      <td>5.400000</td>\n",
       "      <td>45424.857143</td>\n",
       "      <td>147325.285714</td>\n",
       "      <td>496.314286</td>\n",
       "      <td>1518.885714</td>\n",
       "      <td>475.628571</td>\n",
       "      <td>466.828571</td>\n",
       "    </tr>\n",
       "    <tr>\n",
       "      <th>Creative</th>\n",
       "      <td>0.0</td>\n",
       "      <td>11.492958</td>\n",
       "      <td>47777.281690</td>\n",
       "      <td>92149.549296</td>\n",
       "      <td>587.633803</td>\n",
       "      <td>1829.647887</td>\n",
       "      <td>571.014085</td>\n",
       "      <td>572.309859</td>\n",
       "    </tr>\n",
       "    <tr>\n",
       "      <th>Education</th>\n",
       "      <td>0.0</td>\n",
       "      <td>7.531915</td>\n",
       "      <td>75232.765957</td>\n",
       "      <td>120319.170213</td>\n",
       "      <td>598.957447</td>\n",
       "      <td>1104.765957</td>\n",
       "      <td>585.936170</td>\n",
       "      <td>569.276596</td>\n",
       "    </tr>\n",
       "    <tr>\n",
       "      <th>Business</th>\n",
       "      <td>0.0</td>\n",
       "      <td>3.454545</td>\n",
       "      <td>170057.318182</td>\n",
       "      <td>232954.545455</td>\n",
       "      <td>2876.727273</td>\n",
       "      <td>8000.000000</td>\n",
       "      <td>2811.954545</td>\n",
       "      <td>2830.181818</td>\n",
       "    </tr>\n",
       "    <tr>\n",
       "      <th>Wishes</th>\n",
       "      <td>0.0</td>\n",
       "      <td>7.531915</td>\n",
       "      <td>184518.553191</td>\n",
       "      <td>63776.617021</td>\n",
       "      <td>5161.808511</td>\n",
       "      <td>3277.765957</td>\n",
       "      <td>5075.510638</td>\n",
       "      <td>5043.212766</td>\n",
       "    </tr>\n",
       "    <tr>\n",
       "      <th>Emergency</th>\n",
       "      <td>0.0</td>\n",
       "      <td>11.558824</td>\n",
       "      <td>190897.367647</td>\n",
       "      <td>282119.117647</td>\n",
       "      <td>2814.088235</td>\n",
       "      <td>9910.014706</td>\n",
       "      <td>2770.720588</td>\n",
       "      <td>2806.264706</td>\n",
       "    </tr>\n",
       "    <tr>\n",
       "      <th>Community</th>\n",
       "      <td>0.0</td>\n",
       "      <td>11.400000</td>\n",
       "      <td>244523.214286</td>\n",
       "      <td>274193.414286</td>\n",
       "      <td>4916.842857</td>\n",
       "      <td>6681.257143</td>\n",
       "      <td>4774.014286</td>\n",
       "      <td>4596.528571</td>\n",
       "    </tr>\n",
       "    <tr>\n",
       "      <th>Family</th>\n",
       "      <td>0.0</td>\n",
       "      <td>3.478261</td>\n",
       "      <td>246193.869565</td>\n",
       "      <td>323265.217391</td>\n",
       "      <td>4669.565217</td>\n",
       "      <td>7060.260870</td>\n",
       "      <td>4586.260870</td>\n",
       "      <td>4593.347826</td>\n",
       "    </tr>\n",
       "    <tr>\n",
       "      <th>Medical</th>\n",
       "      <td>0.0</td>\n",
       "      <td>5.500000</td>\n",
       "      <td>446514.833333</td>\n",
       "      <td>662111.111111</td>\n",
       "      <td>7706.500000</td>\n",
       "      <td>14179.250000</td>\n",
       "      <td>7454.416667</td>\n",
       "      <td>7529.416667</td>\n",
       "    </tr>\n",
       "  </tbody>\n",
       "</table>\n",
       "</div>"
      ],
      "text/plain": [
       "             Unnamed: 0   Position  Amount_Raised           Goal  \\\n",
       "Category                                                           \n",
       "Competition         0.0  11.536232    2822.420290    4790.579710   \n",
       "Newlywed            0.0  11.557143    3927.542857   20586.514286   \n",
       "Travel              0.0  11.215385    9437.784615   12519.400000   \n",
       "Event               0.0   9.563636   15469.745455   40340.654545   \n",
       "Sports              0.0  11.366197   25214.140845   53612.957746   \n",
       "Faith               0.0   5.400000   45424.857143  147325.285714   \n",
       "Creative            0.0  11.492958   47777.281690   92149.549296   \n",
       "Education           0.0   7.531915   75232.765957  120319.170213   \n",
       "Business            0.0   3.454545  170057.318182  232954.545455   \n",
       "Wishes              0.0   7.531915  184518.553191   63776.617021   \n",
       "Emergency           0.0  11.558824  190897.367647  282119.117647   \n",
       "Community           0.0  11.400000  244523.214286  274193.414286   \n",
       "Family              0.0   3.478261  246193.869565  323265.217391   \n",
       "Medical             0.0   5.500000  446514.833333  662111.111111   \n",
       "\n",
       "             Number_of_Donations     FB_Shares  Number_of_Donors    Followers  \n",
       "Category                                                                       \n",
       "Competition            32.898551    140.985507         32.101449    32.028986  \n",
       "Newlywed               36.185714    100.285714         35.042857    34.485714  \n",
       "Travel                107.353846    334.815385         99.076923    92.200000  \n",
       "Event                 179.545455    619.709091        175.672727   175.054545  \n",
       "Sports                209.014085    585.084507        201.619718   200.774648  \n",
       "Faith                 496.314286   1518.885714        475.628571   466.828571  \n",
       "Creative              587.633803   1829.647887        571.014085   572.309859  \n",
       "Education             598.957447   1104.765957        585.936170   569.276596  \n",
       "Business             2876.727273   8000.000000       2811.954545  2830.181818  \n",
       "Wishes               5161.808511   3277.765957       5075.510638  5043.212766  \n",
       "Emergency            2814.088235   9910.014706       2770.720588  2806.264706  \n",
       "Community            4916.842857   6681.257143       4774.014286  4596.528571  \n",
       "Family               4669.565217   7060.260870       4586.260870  4593.347826  \n",
       "Medical              7706.500000  14179.250000       7454.416667  7529.416667  "
      ]
     },
     "execution_count": 42,
     "metadata": {},
     "output_type": "execute_result"
    }
   ],
   "source": [
    "mean_graph = df.groupby('Category').mean().sort_values(by='Amount_Raised')\n",
    "mean_graph"
   ]
  },
  {
   "cell_type": "code",
   "execution_count": 43,
   "metadata": {},
   "outputs": [
    {
     "data": {
      "text/plain": [
       "<matplotlib.axes._subplots.AxesSubplot at 0x7fe4ddc9c8b0>"
      ]
     },
     "execution_count": 43,
     "metadata": {},
     "output_type": "execute_result"
    },
    {
     "data": {
      "image/png": "[encoded data removed]",
      "text/plain": [
       "<Figure size 432x288 with 1 Axes>"
      ]
     },
     "metadata": {},
     "output_type": "display_data"
    }
   ],
   "source": [
    "mean_graph.plot(kind = 'barh', y = 'Amount_Raised')"
   ]
  },
  {
   "cell_type": "code",
   "execution_count": 38,
   "metadata": {},
   "outputs": [
    {
     "data": {
      "text/plain": [
       "<matplotlib.axes._subplots.AxesSubplot at 0x7fa5ddac1820>"
      ]
     },
     "execution_count": 38,
     "metadata": {},
     "output_type": "execute_result"
    },
    {
     "data": {
      "image/png": "[encoded data removed]",
      "text/plain": [
       "<Figure size 432x288 with 1 Axes>"
      ]
     },
     "metadata": {},
     "output_type": "display_data"
    }
   ],
   "source": [
    "mean_donors = df.groupby('Category').mean().sort_values(by = 'Number_of_Donors')\n",
    "mean_donors.plot(kind = 'barh', y = 'Number_of_Donors')"
   ]
  },
  {
   "cell_type": "code",
   "execution_count": 42,
   "metadata": {},
   "outputs": [
    {
     "data": {
      "text/plain": [
       "<matplotlib.axes._subplots.AxesSubplot at 0x7fa5dde8a610>"
      ]
     },
     "execution_count": 42,
     "metadata": {},
     "output_type": "execute_result"
    },
    {
     "data": {
      "image/png": "[encoded data removed]",
      "text/plain": [
       "<Figure size 432x288 with 1 Axes>"
      ]
     },
     "metadata": {},
     "output_type": "display_data"
    }
   ],
   "source": [
    "mean_donations = df.groupby('Category').mean().sort_values(by = 'Number_of_Donations')\n",
    "mean_donors.plot(kind = 'barh', y = 'Number_of_Donations')"
   ]
  },
  {
   "cell_type": "code",
   "execution_count": 41,
   "metadata": {},
   "outputs": [
    {
     "data": {
      "text/plain": [
       "<matplotlib.axes._subplots.AxesSubplot at 0x7fa5dd8c1670>"
      ]
     },
     "execution_count": 41,
     "metadata": {},
     "output_type": "execute_result"
    },
    {
     "data": {
      "image/png": "[encoded data removed]",
      "text/plain": [
       "<Figure size 432x288 with 1 Axes>"
      ]
     },
     "metadata": {},
     "output_type": "display_data"
    }
   ],
   "source": [
    "mean_followers = df.groupby('Category').mean().sort_values(by = 'Followers')\n",
    "mean_followers.plot(kind = 'barh', y = 'Followers')"
   ]
  },
  {
   "cell_type": "code",
   "execution_count": 44,
   "metadata": {},
   "outputs": [
    {
     "data": {
      "text/plain": [
       "<matplotlib.axes._subplots.AxesSubplot at 0x7fa5de1be040>"
      ]
     },
     "execution_count": 44,
     "metadata": {},
     "output_type": "execute_result"
    },
    {
     "data": {
      "image/png": "[encoded data removed]",
      "text/plain": [
       "<Figure size 432x288 with 1 Axes>"
      ]
     },
     "metadata": {},
     "output_type": "display_data"
    }
   ],
   "source": [
    "mean_shares = df.groupby('Category').mean().sort_values(by = 'FB_Shares')\n",
    "mean_shares.plot(kind = 'barh', y = 'FB_Shares')"
   ]
  },
  {
   "cell_type": "code",
   "execution_count": 45,
   "metadata": {},
   "outputs": [
    {
     "data": {
      "text/html": [
       "<div>\n",
       "<style scoped>\n",
       "    .dataframe tbody tr th:only-of-type {\n",
       "        vertical-align: middle;\n",
       "    }\n",
       "\n",
       "    .dataframe tbody tr th {\n",
       "        vertical-align: top;\n",
       "    }\n",
       "\n",
       "    .dataframe thead th {\n",
       "        text-align: right;\n",
       "    }\n",
       "</style>\n",
       "<table border=\"1\" class=\"dataframe\">\n",
       "  <thead>\n",
       "    <tr style=\"text-align: right;\">\n",
       "      <th></th>\n",
       "      <th>Unnamed: 0</th>\n",
       "      <th>Position</th>\n",
       "      <th>Amount_Raised</th>\n",
       "      <th>Goal</th>\n",
       "      <th>Number_of_Donations</th>\n",
       "      <th>FB_Shares</th>\n",
       "      <th>Number_of_Donors</th>\n",
       "      <th>Followers</th>\n",
       "    </tr>\n",
       "    <tr>\n",
       "      <th>Category</th>\n",
       "      <th></th>\n",
       "      <th></th>\n",
       "      <th></th>\n",
       "      <th></th>\n",
       "      <th></th>\n",
       "      <th></th>\n",
       "      <th></th>\n",
       "      <th></th>\n",
       "    </tr>\n",
       "  </thead>\n",
       "  <tbody>\n",
       "    <tr>\n",
       "      <th>Business</th>\n",
       "      <td>0.0</td>\n",
       "      <td>3.454545</td>\n",
       "      <td>170057.318182</td>\n",
       "      <td>232954.545455</td>\n",
       "      <td>2876.727273</td>\n",
       "      <td>8000.000000</td>\n",
       "      <td>2811.954545</td>\n",
       "      <td>2830.181818</td>\n",
       "    </tr>\n",
       "    <tr>\n",
       "      <th>Community</th>\n",
       "      <td>0.0</td>\n",
       "      <td>11.400000</td>\n",
       "      <td>244523.214286</td>\n",
       "      <td>274193.414286</td>\n",
       "      <td>4916.842857</td>\n",
       "      <td>6681.257143</td>\n",
       "      <td>4774.014286</td>\n",
       "      <td>4596.528571</td>\n",
       "    </tr>\n",
       "    <tr>\n",
       "      <th>Competition</th>\n",
       "      <td>0.0</td>\n",
       "      <td>11.536232</td>\n",
       "      <td>2822.420290</td>\n",
       "      <td>4790.579710</td>\n",
       "      <td>32.898551</td>\n",
       "      <td>140.985507</td>\n",
       "      <td>32.101449</td>\n",
       "      <td>32.028986</td>\n",
       "    </tr>\n",
       "    <tr>\n",
       "      <th>Creative</th>\n",
       "      <td>0.0</td>\n",
       "      <td>11.492958</td>\n",
       "      <td>47777.281690</td>\n",
       "      <td>92149.549296</td>\n",
       "      <td>587.633803</td>\n",
       "      <td>1829.647887</td>\n",
       "      <td>571.014085</td>\n",
       "      <td>572.309859</td>\n",
       "    </tr>\n",
       "    <tr>\n",
       "      <th>Education</th>\n",
       "      <td>0.0</td>\n",
       "      <td>7.531915</td>\n",
       "      <td>75232.765957</td>\n",
       "      <td>120319.170213</td>\n",
       "      <td>598.957447</td>\n",
       "      <td>1104.765957</td>\n",
       "      <td>585.936170</td>\n",
       "      <td>569.276596</td>\n",
       "    </tr>\n",
       "    <tr>\n",
       "      <th>Emergency</th>\n",
       "      <td>0.0</td>\n",
       "      <td>11.558824</td>\n",
       "      <td>190897.367647</td>\n",
       "      <td>282119.117647</td>\n",
       "      <td>2814.088235</td>\n",
       "      <td>9910.014706</td>\n",
       "      <td>2770.720588</td>\n",
       "      <td>2806.264706</td>\n",
       "    </tr>\n",
       "    <tr>\n",
       "      <th>Event</th>\n",
       "      <td>0.0</td>\n",
       "      <td>9.563636</td>\n",
       "      <td>15469.745455</td>\n",
       "      <td>40340.654545</td>\n",
       "      <td>179.545455</td>\n",
       "      <td>619.709091</td>\n",
       "      <td>175.672727</td>\n",
       "      <td>175.054545</td>\n",
       "    </tr>\n",
       "    <tr>\n",
       "      <th>Faith</th>\n",
       "      <td>0.0</td>\n",
       "      <td>5.400000</td>\n",
       "      <td>45424.857143</td>\n",
       "      <td>147325.285714</td>\n",
       "      <td>496.314286</td>\n",
       "      <td>1518.885714</td>\n",
       "      <td>475.628571</td>\n",
       "      <td>466.828571</td>\n",
       "    </tr>\n",
       "    <tr>\n",
       "      <th>Family</th>\n",
       "      <td>0.0</td>\n",
       "      <td>3.478261</td>\n",
       "      <td>246193.869565</td>\n",
       "      <td>323265.217391</td>\n",
       "      <td>4669.565217</td>\n",
       "      <td>7060.260870</td>\n",
       "      <td>4586.260870</td>\n",
       "      <td>4593.347826</td>\n",
       "    </tr>\n",
       "    <tr>\n",
       "      <th>Medical</th>\n",
       "      <td>0.0</td>\n",
       "      <td>5.500000</td>\n",
       "      <td>446514.833333</td>\n",
       "      <td>662111.111111</td>\n",
       "      <td>7706.500000</td>\n",
       "      <td>14179.250000</td>\n",
       "      <td>7454.416667</td>\n",
       "      <td>7529.416667</td>\n",
       "    </tr>\n",
       "    <tr>\n",
       "      <th>Newlywed</th>\n",
       "      <td>0.0</td>\n",
       "      <td>11.557143</td>\n",
       "      <td>3927.542857</td>\n",
       "      <td>20586.514286</td>\n",
       "      <td>36.185714</td>\n",
       "      <td>100.285714</td>\n",
       "      <td>35.042857</td>\n",
       "      <td>34.485714</td>\n",
       "    </tr>\n",
       "    <tr>\n",
       "      <th>Sports</th>\n",
       "      <td>0.0</td>\n",
       "      <td>11.366197</td>\n",
       "      <td>25214.140845</td>\n",
       "      <td>53612.957746</td>\n",
       "      <td>209.014085</td>\n",
       "      <td>585.084507</td>\n",
       "      <td>201.619718</td>\n",
       "      <td>200.774648</td>\n",
       "    </tr>\n",
       "    <tr>\n",
       "      <th>Travel</th>\n",
       "      <td>0.0</td>\n",
       "      <td>11.215385</td>\n",
       "      <td>9437.784615</td>\n",
       "      <td>12519.400000</td>\n",
       "      <td>107.353846</td>\n",
       "      <td>334.815385</td>\n",
       "      <td>99.076923</td>\n",
       "      <td>92.200000</td>\n",
       "    </tr>\n",
       "    <tr>\n",
       "      <th>Wishes</th>\n",
       "      <td>0.0</td>\n",
       "      <td>7.531915</td>\n",
       "      <td>184518.553191</td>\n",
       "      <td>63776.617021</td>\n",
       "      <td>5161.808511</td>\n",
       "      <td>3277.765957</td>\n",
       "      <td>5075.510638</td>\n",
       "      <td>5043.212766</td>\n",
       "    </tr>\n",
       "  </tbody>\n",
       "</table>\n",
       "</div>"
      ],
      "text/plain": [
       "             Unnamed: 0   Position  Amount_Raised           Goal  \\\n",
       "Category                                                           \n",
       "Business            0.0   3.454545  170057.318182  232954.545455   \n",
       "Community           0.0  11.400000  244523.214286  274193.414286   \n",
       "Competition         0.0  11.536232    2822.420290    4790.579710   \n",
       "Creative            0.0  11.492958   47777.281690   92149.549296   \n",
       "Education           0.0   7.531915   75232.765957  120319.170213   \n",
       "Emergency           0.0  11.558824  190897.367647  282119.117647   \n",
       "Event               0.0   9.563636   15469.745455   40340.654545   \n",
       "Faith               0.0   5.400000   45424.857143  147325.285714   \n",
       "Family              0.0   3.478261  246193.869565  323265.217391   \n",
       "Medical             0.0   5.500000  446514.833333  662111.111111   \n",
       "Newlywed            0.0  11.557143    3927.542857   20586.514286   \n",
       "Sports              0.0  11.366197   25214.140845   53612.957746   \n",
       "Travel              0.0  11.215385    9437.784615   12519.400000   \n",
       "Wishes              0.0   7.531915  184518.553191   63776.617021   \n",
       "\n",
       "             Number_of_Donations     FB_Shares  Number_of_Donors    Followers  \n",
       "Category                                                                       \n",
       "Business             2876.727273   8000.000000       2811.954545  2830.181818  \n",
       "Community            4916.842857   6681.257143       4774.014286  4596.528571  \n",
       "Competition            32.898551    140.985507         32.101449    32.028986  \n",
       "Creative              587.633803   1829.647887        571.014085   572.309859  \n",
       "Education             598.957447   1104.765957        585.936170   569.276596  \n",
       "Emergency            2814.088235   9910.014706       2770.720588  2806.264706  \n",
       "Event                 179.545455    619.709091        175.672727   175.054545  \n",
       "Faith                 496.314286   1518.885714        475.628571   466.828571  \n",
       "Family               4669.565217   7060.260870       4586.260870  4593.347826  \n",
       "Medical              7706.500000  14179.250000       7454.416667  7529.416667  \n",
       "Newlywed               36.185714    100.285714         35.042857    34.485714  \n",
       "Sports                209.014085    585.084507        201.619718   200.774648  \n",
       "Travel                107.353846    334.815385         99.076923    92.200000  \n",
       "Wishes               5161.808511   3277.765957       5075.510638  5043.212766  "
      ]
     },
     "execution_count": 45,
     "metadata": {},
     "output_type": "execute_result"
    }
   ],
   "source": [
    "median_table = df.groupby('Category').median()\n",
    "median_table"
   ]
  },
  {
   "cell_type": "code",
   "execution_count": 47,
   "metadata": {},
   "outputs": [
    {
     "data": {
      "text/plain": [
       "<matplotlib.axes._subplots.AxesSubplot at 0x7fa5de2a5610>"
      ]
     },
     "execution_count": 47,
     "metadata": {},
     "output_type": "execute_result"
    },
    {
     "data": {
      "image/png": "[encoded data removed]",
      "text/plain": [
       "<Figure size 432x288 with 1 Axes>"
      ]
     },
     "metadata": {},
     "output_type": "display_data"
    }
   ],
   "source": [
    "median_table.sort_values(by='Amount_Raised').plot(kind = 'barh', y= 'Amount_Raised')"
   ]
  },
  {
   "cell_type": "code",
   "execution_count": 50,
   "metadata": {},
   "outputs": [
    {
     "data": {
      "text/plain": [
       "<matplotlib.axes._subplots.AxesSubplot at 0x7fa5de47aa60>"
      ]
     },
     "execution_count": 50,
     "metadata": {},
     "output_type": "execute_result"
    },
    {
     "data": {
      "image/png": "[encoded data removed]",
      "text/plain": [
       "<Figure size 432x288 with 1 Axes>"
      ]
     },
     "metadata": {},
     "output_type": "display_data"
    }
   ],
   "source": [
    "median_table.sort_values(by='Number_of_Donations').plot(kind = 'barh', y= 'Number_of_Donations')"
   ]
  },
  {
   "cell_type": "code",
   "execution_count": 81,
   "metadata": {},
   "outputs": [
    {
     "data": {
      "text/plain": [
       "<matplotlib.axes._subplots.AxesSubplot at 0x7fa5df9a98b0>"
      ]
     },
     "execution_count": 81,
     "metadata": {},
     "output_type": "execute_result"
    },
    {
     "data": {
      "image/png": "[encoded data removed]",
      "text/plain": [
       "<Figure size 432x288 with 1 Axes>"
      ]
     },
     "metadata": {},
     "output_type": "display_data"
    }
   ],
   "source": [
    "median_table.sort_values(by='Followers').plot(kind = 'barh', y= 'Followers')"
   ]
  },
  {
   "cell_type": "code",
   "execution_count": 82,
   "metadata": {},
   "outputs": [
    {
     "data": {
      "text/plain": [
       "<matplotlib.axes._subplots.AxesSubplot at 0x7fa5dfb67d90>"
      ]
     },
     "execution_count": 82,
     "metadata": {},
     "output_type": "execute_result"
    },
    {
     "data": {
      "image/png": "[encoded data removed]",
      "text/plain": [
       "<Figure size 432x288 with 1 Axes>"
      ]
     },
     "metadata": {},
     "output_type": "display_data"
    }
   ],
   "source": [
    "median_table.sort_values(by='Number_of_Donors').plot(kind = 'barh', y= 'Number_of_Donors')"
   ]
  },
  {
   "cell_type": "code",
   "execution_count": 83,
   "metadata": {},
   "outputs": [
    {
     "data": {
      "text/plain": [
       "<matplotlib.axes._subplots.AxesSubplot at 0x7fa5dfa60730>"
      ]
     },
     "execution_count": 83,
     "metadata": {},
     "output_type": "execute_result"
    },
    {
     "data": {
      "image/png": "[encoded data removed]",
      "text/plain": [
       "<Figure size 432x288 with 1 Axes>"
      ]
     },
     "metadata": {},
     "output_type": "display_data"
    }
   ],
   "source": [
    "median_table.sort_values(by='FB_Shares').plot(kind = 'barh', y= 'FB_Shares')"
   ]
  },
  {
   "cell_type": "code",
   "execution_count": 47,
   "metadata": {},
   "outputs": [
    {
     "data": {
      "text/html": [
       "<div>\n",
       "<style scoped>\n",
       "    .dataframe tbody tr th:only-of-type {\n",
       "        vertical-align: middle;\n",
       "    }\n",
       "\n",
       "    .dataframe tbody tr th {\n",
       "        vertical-align: top;\n",
       "    }\n",
       "\n",
       "    .dataframe thead th {\n",
       "        text-align: right;\n",
       "    }\n",
       "</style>\n",
       "<table border=\"1\" class=\"dataframe\">\n",
       "  <thead>\n",
       "    <tr style=\"text-align: right;\">\n",
       "      <th></th>\n",
       "      <th>Unnamed: 0</th>\n",
       "      <th>Position</th>\n",
       "      <th>Amount_Raised</th>\n",
       "      <th>Goal</th>\n",
       "      <th>Number_of_Donations</th>\n",
       "      <th>FB_Shares</th>\n",
       "      <th>Number_of_Donors</th>\n",
       "      <th>Followers</th>\n",
       "    </tr>\n",
       "    <tr>\n",
       "      <th>Category</th>\n",
       "      <th></th>\n",
       "      <th></th>\n",
       "      <th></th>\n",
       "      <th></th>\n",
       "      <th></th>\n",
       "      <th></th>\n",
       "      <th></th>\n",
       "      <th></th>\n",
       "    </tr>\n",
       "  </thead>\n",
       "  <tbody>\n",
       "    <tr>\n",
       "      <th>Business</th>\n",
       "      <td>0.0</td>\n",
       "      <td>3.5</td>\n",
       "      <td>115857.5</td>\n",
       "      <td>162500.0</td>\n",
       "      <td>2150.0</td>\n",
       "      <td>4400.0</td>\n",
       "      <td>2050.0</td>\n",
       "      <td>2100.0</td>\n",
       "    </tr>\n",
       "    <tr>\n",
       "      <th>Community</th>\n",
       "      <td>0.0</td>\n",
       "      <td>11.0</td>\n",
       "      <td>104923.0</td>\n",
       "      <td>100000.0</td>\n",
       "      <td>1650.0</td>\n",
       "      <td>2250.0</td>\n",
       "      <td>1500.0</td>\n",
       "      <td>1500.0</td>\n",
       "    </tr>\n",
       "    <tr>\n",
       "      <th>Competition</th>\n",
       "      <td>0.0</td>\n",
       "      <td>12.0</td>\n",
       "      <td>1625.0</td>\n",
       "      <td>3000.0</td>\n",
       "      <td>25.0</td>\n",
       "      <td>89.0</td>\n",
       "      <td>24.0</td>\n",
       "      <td>24.0</td>\n",
       "    </tr>\n",
       "    <tr>\n",
       "      <th>Creative</th>\n",
       "      <td>0.0</td>\n",
       "      <td>11.0</td>\n",
       "      <td>34999.0</td>\n",
       "      <td>50000.0</td>\n",
       "      <td>433.0</td>\n",
       "      <td>1100.0</td>\n",
       "      <td>429.0</td>\n",
       "      <td>428.0</td>\n",
       "    </tr>\n",
       "    <tr>\n",
       "      <th>Education</th>\n",
       "      <td>0.0</td>\n",
       "      <td>8.0</td>\n",
       "      <td>69010.0</td>\n",
       "      <td>100000.0</td>\n",
       "      <td>354.0</td>\n",
       "      <td>722.0</td>\n",
       "      <td>339.0</td>\n",
       "      <td>328.0</td>\n",
       "    </tr>\n",
       "    <tr>\n",
       "      <th>Emergency</th>\n",
       "      <td>0.0</td>\n",
       "      <td>11.5</td>\n",
       "      <td>159730.5</td>\n",
       "      <td>192500.0</td>\n",
       "      <td>1850.0</td>\n",
       "      <td>4100.0</td>\n",
       "      <td>1800.0</td>\n",
       "      <td>1850.0</td>\n",
       "    </tr>\n",
       "    <tr>\n",
       "      <th>Event</th>\n",
       "      <td>0.0</td>\n",
       "      <td>10.0</td>\n",
       "      <td>12300.0</td>\n",
       "      <td>15000.0</td>\n",
       "      <td>145.0</td>\n",
       "      <td>431.0</td>\n",
       "      <td>141.0</td>\n",
       "      <td>139.0</td>\n",
       "    </tr>\n",
       "    <tr>\n",
       "      <th>Faith</th>\n",
       "      <td>0.0</td>\n",
       "      <td>5.0</td>\n",
       "      <td>31670.0</td>\n",
       "      <td>75000.0</td>\n",
       "      <td>174.0</td>\n",
       "      <td>464.0</td>\n",
       "      <td>151.0</td>\n",
       "      <td>148.0</td>\n",
       "    </tr>\n",
       "    <tr>\n",
       "      <th>Family</th>\n",
       "      <td>0.0</td>\n",
       "      <td>3.0</td>\n",
       "      <td>122907.0</td>\n",
       "      <td>120000.0</td>\n",
       "      <td>956.0</td>\n",
       "      <td>2700.0</td>\n",
       "      <td>932.0</td>\n",
       "      <td>941.0</td>\n",
       "    </tr>\n",
       "    <tr>\n",
       "      <th>Medical</th>\n",
       "      <td>0.0</td>\n",
       "      <td>5.5</td>\n",
       "      <td>255413.0</td>\n",
       "      <td>255000.0</td>\n",
       "      <td>4000.0</td>\n",
       "      <td>6050.0</td>\n",
       "      <td>3950.0</td>\n",
       "      <td>4000.0</td>\n",
       "    </tr>\n",
       "    <tr>\n",
       "      <th>Newlywed</th>\n",
       "      <td>0.0</td>\n",
       "      <td>11.5</td>\n",
       "      <td>2900.0</td>\n",
       "      <td>5000.0</td>\n",
       "      <td>26.5</td>\n",
       "      <td>16.0</td>\n",
       "      <td>26.0</td>\n",
       "      <td>25.0</td>\n",
       "    </tr>\n",
       "    <tr>\n",
       "      <th>Sports</th>\n",
       "      <td>0.0</td>\n",
       "      <td>11.0</td>\n",
       "      <td>18380.0</td>\n",
       "      <td>30000.0</td>\n",
       "      <td>147.0</td>\n",
       "      <td>357.0</td>\n",
       "      <td>142.0</td>\n",
       "      <td>142.0</td>\n",
       "    </tr>\n",
       "    <tr>\n",
       "      <th>Travel</th>\n",
       "      <td>0.0</td>\n",
       "      <td>11.0</td>\n",
       "      <td>6710.0</td>\n",
       "      <td>8000.0</td>\n",
       "      <td>67.0</td>\n",
       "      <td>166.0</td>\n",
       "      <td>64.0</td>\n",
       "      <td>59.0</td>\n",
       "    </tr>\n",
       "    <tr>\n",
       "      <th>Wishes</th>\n",
       "      <td>0.0</td>\n",
       "      <td>8.0</td>\n",
       "      <td>31062.0</td>\n",
       "      <td>30000.0</td>\n",
       "      <td>413.0</td>\n",
       "      <td>815.0</td>\n",
       "      <td>405.0</td>\n",
       "      <td>404.0</td>\n",
       "    </tr>\n",
       "  </tbody>\n",
       "</table>\n",
       "</div>"
      ],
      "text/plain": [
       "             Unnamed: 0  Position  Amount_Raised      Goal  \\\n",
       "Category                                                     \n",
       "Business            0.0       3.5       115857.5  162500.0   \n",
       "Community           0.0      11.0       104923.0  100000.0   \n",
       "Competition         0.0      12.0         1625.0    3000.0   \n",
       "Creative            0.0      11.0        34999.0   50000.0   \n",
       "Education           0.0       8.0        69010.0  100000.0   \n",
       "Emergency           0.0      11.5       159730.5  192500.0   \n",
       "Event               0.0      10.0        12300.0   15000.0   \n",
       "Faith               0.0       5.0        31670.0   75000.0   \n",
       "Family              0.0       3.0       122907.0  120000.0   \n",
       "Medical             0.0       5.5       255413.0  255000.0   \n",
       "Newlywed            0.0      11.5         2900.0    5000.0   \n",
       "Sports              0.0      11.0        18380.0   30000.0   \n",
       "Travel              0.0      11.0         6710.0    8000.0   \n",
       "Wishes              0.0       8.0        31062.0   30000.0   \n",
       "\n",
       "             Number_of_Donations  FB_Shares  Number_of_Donors  Followers  \n",
       "Category                                                                  \n",
       "Business                  2150.0     4400.0            2050.0     2100.0  \n",
       "Community                 1650.0     2250.0            1500.0     1500.0  \n",
       "Competition                 25.0       89.0              24.0       24.0  \n",
       "Creative                   433.0     1100.0             429.0      428.0  \n",
       "Education                  354.0      722.0             339.0      328.0  \n",
       "Emergency                 1850.0     4100.0            1800.0     1850.0  \n",
       "Event                      145.0      431.0             141.0      139.0  \n",
       "Faith                      174.0      464.0             151.0      148.0  \n",
       "Family                     956.0     2700.0             932.0      941.0  \n",
       "Medical                   4000.0     6050.0            3950.0     4000.0  \n",
       "Newlywed                    26.5       16.0              26.0       25.0  \n",
       "Sports                     147.0      357.0             142.0      142.0  \n",
       "Travel                      67.0      166.0              64.0       59.0  \n",
       "Wishes                     413.0      815.0             405.0      404.0  "
      ]
     },
     "execution_count": 47,
     "metadata": {},
     "output_type": "execute_result"
    }
   ],
   "source": [
    "median_table"
   ]
  },
  {
   "cell_type": "code",
   "execution_count": 107,
   "metadata": {},
   "outputs": [
    {
     "data": {
      "text/plain": [
       "<matplotlib.axes._subplots.AxesSubplot at 0x7fe4e4a09e80>"
      ]
     },
     "execution_count": 107,
     "metadata": {},
     "output_type": "execute_result"
    },
    {
     "data": {
      "image/png": "[encoded data removed]",
      "text/plain": [
       "<Figure size 432x288 with 1 Axes>"
      ]
     },
     "metadata": {},
     "output_type": "display_data"
    }
   ],
   "source": [
    "boxplot = df.boxplot('Amount_Raised', by='Category')\n",
    "boxplot"
   ]
  },
  {
   "cell_type": "code",
   "execution_count": null,
   "metadata": {},
   "outputs": [],
   "source": []
  }
 ],
 "metadata": {
  "kernelspec": {
   "display_name": "Python 3",
   "language": "python",
   "name": "python3"
  },
  "language_info": {
   "codemirror_mode": {
    "name": "ipython",
    "version": 3
   },
   "file_extension": ".py",
   "mimetype": "text/x-python",
   "name": "python",
   "nbconvert_exporter": "python",
   "pygments_lexer": "ipython3",
   "version": "3.8.3"
  }
 },
 "nbformat": 4,
 "nbformat_minor": 4
}
