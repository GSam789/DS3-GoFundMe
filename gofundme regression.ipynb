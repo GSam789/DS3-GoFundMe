{
 "cells": [
  {
   "cell_type": "code",
   "execution_count": 65,
   "metadata": {},
   "outputs": [],
   "source": [
    "%matplotlib inline\n",
    "import pandas as pd\n",
    "import numpy as np\n",
    "import matplotlib.pyplot as plt\n",
    "plt.style.use('seaborn-whitegrid')\n",
    "from sklearn.linear_model import LinearRegression\n",
    "from sklearn.metrics import r2_score\n",
    "from sklearn.linear_model import Ridge\n",
    "from sklearn.metrics import mean_squared_error\n",
    "import statsmodels.api as sm\n",
    "from sklearn import preprocessing\n",
    "import seaborn as sn\n",
    "from scipy import stats\n",
    "from sklearn.model_selection import train_test_split"
   ]
  },
  {
   "cell_type": "code",
   "execution_count": 2,
   "metadata": {},
   "outputs": [],
   "source": [
    "df = pd.read_csv('GFM_data.csv', sep = '\\t')"
   ]
  },
  {
   "cell_type": "markdown",
   "metadata": {},
   "source": [
    "### Clean dataframe and standardize numerical data"
   ]
  },
  {
   "cell_type": "code",
   "execution_count": 3,
   "metadata": {},
   "outputs": [],
   "source": [
    "def helper(x):\n",
    "    ## if string will make numeric\n",
    "    if isinstance(x,str):\n",
    "        x = x.replace(',','')\n",
    "        ## if has \".1k\" will change to numeric\n",
    "        if '.' in x and 'K' in x:\n",
    "            x = x.replace('.','')\n",
    "            x = x.replace('K','00')\n",
    "        ## if \"k\" will change to numeric\n",
    "        if 'K' in x:\n",
    "            x = x.replace('K','000')\n",
    "        return x\n",
    "    ## return nan\n",
    "    else:\n",
    "        return x\n",
    "df['Number_of_Donations'] = df['Number_of_Donations'].apply(helper).astype(float)\n",
    "df['FB_Shares'] = df['FB_Shares'].apply(helper).astype(float)\n",
    "df['Number_of_Donors'] = df['Number_of_Donors'].apply(helper).astype(float)\n",
    "df['Followers'] = df['Followers'].apply(helper).astype(float)"
   ]
  },
  {
   "cell_type": "code",
   "execution_count": 4,
   "metadata": {},
   "outputs": [],
   "source": [
    "df['Amount_Raised'] = pd.Series(preprocessing.scale(df['Amount_Raised'].values))\n",
    "df['Goal'] = pd.Series(preprocessing.scale(df['Goal'].values))\n",
    "df['Number_of_Donations'] = pd.Series(preprocessing.scale(df['Number_of_Donations'].values))\n",
    "df['FB_Shares'] = pd.Series(preprocessing.scale(df['FB_Shares'].values))\n",
    "df['Number_of_Donors'] = pd.Series(preprocessing.scale(df['Number_of_Donors'].values))\n",
    "df['Followers'] = pd.Series(preprocessing.scale(df['Followers'].values))"
   ]
  },
  {
   "cell_type": "code",
   "execution_count": 5,
   "metadata": {},
   "outputs": [],
   "source": [
    "df = df.dropna()"
   ]
  },
  {
   "cell_type": "code",
   "execution_count": 6,
   "metadata": {},
   "outputs": [],
   "source": [
    "df['Length_of_Fundraising']= df['Length_of_Fundraising'].apply(lambda x: int(x[:-24]))\n",
    "df['Length_of_Fundraising'] = pd.Series(preprocessing.scale(df['Length_of_Fundraising'].values))"
   ]
  },
  {
   "cell_type": "code",
   "execution_count": 7,
   "metadata": {},
   "outputs": [
    {
     "data": {
      "text/html": [
       "<div>\n",
       "<style scoped>\n",
       "    .dataframe tbody tr th:only-of-type {\n",
       "        vertical-align: middle;\n",
       "    }\n",
       "\n",
       "    .dataframe tbody tr th {\n",
       "        vertical-align: top;\n",
       "    }\n",
       "\n",
       "    .dataframe thead th {\n",
       "        text-align: right;\n",
       "    }\n",
       "</style>\n",
       "<table border=\"1\" class=\"dataframe\">\n",
       "  <thead>\n",
       "    <tr style=\"text-align: right;\">\n",
       "      <th></th>\n",
       "      <th>Unnamed: 0</th>\n",
       "      <th>Url</th>\n",
       "      <th>Category</th>\n",
       "      <th>Position</th>\n",
       "      <th>Title</th>\n",
       "      <th>Location</th>\n",
       "      <th>Amount_Raised</th>\n",
       "      <th>Goal</th>\n",
       "      <th>Number_of_Donations</th>\n",
       "      <th>Length_of_Fundraising</th>\n",
       "      <th>FB_Shares</th>\n",
       "      <th>Number_of_Donors</th>\n",
       "      <th>Followers</th>\n",
       "      <th>Text</th>\n",
       "    </tr>\n",
       "  </thead>\n",
       "  <tbody>\n",
       "    <tr>\n",
       "      <td>0</td>\n",
       "      <td>0</td>\n",
       "      <td>https://www.gofundme.com/f/justiceforjacobblake</td>\n",
       "      <td>Medical</td>\n",
       "      <td>0</td>\n",
       "      <td>Justice for Jacob Blake</td>\n",
       "      <td>Kenosha, WI</td>\n",
       "      <td>6.616203</td>\n",
       "      <td>8.945946</td>\n",
       "      <td>7.162507</td>\n",
       "      <td>-0.680095</td>\n",
       "      <td>11.813639</td>\n",
       "      <td>7.276107</td>\n",
       "      <td>7.470116</td>\n",
       "      <td>On August 23rd my son was shot multiple times ...</td>\n",
       "    </tr>\n",
       "    <tr>\n",
       "      <td>1</td>\n",
       "      <td>0</td>\n",
       "      <td>https://www.gofundme.com/f/official-navajo-nat...</td>\n",
       "      <td>Medical</td>\n",
       "      <td>0</td>\n",
       "      <td>Official Navajo Nation COVID-19 Relief Fund</td>\n",
       "      <td>Window Rock, AZ</td>\n",
       "      <td>5.214384</td>\n",
       "      <td>2.693807</td>\n",
       "      <td>2.035069</td>\n",
       "      <td>1.655223</td>\n",
       "      <td>7.003071</td>\n",
       "      <td>2.031186</td>\n",
       "      <td>2.070553</td>\n",
       "      <td>\\nThe Navajo Nation COVID-19 Fund has been est...</td>\n",
       "    </tr>\n",
       "    <tr>\n",
       "      <td>2</td>\n",
       "      <td>0</td>\n",
       "      <td>https://www.gofundme.com/f/Tommy-Rivers-Rest-Up</td>\n",
       "      <td>Medical</td>\n",
       "      <td>0</td>\n",
       "      <td>Rest up, Tommy, we'll see you soon</td>\n",
       "      <td>Raised $105,973 from 1795 donations</td>\n",
       "      <td>1.659910</td>\n",
       "      <td>2.693807</td>\n",
       "      <td>0.926979</td>\n",
       "      <td>0.112245</td>\n",
       "      <td>1.801064</td>\n",
       "      <td>0.858791</td>\n",
       "      <td>0.882232</td>\n",
       "      <td>First, thank you for being here. Tommy Rivers ...</td>\n",
       "    </tr>\n",
       "    <tr>\n",
       "      <td>3</td>\n",
       "      <td>0</td>\n",
       "      <td>https://www.gofundme.com/f/brandon039s-medical...</td>\n",
       "      <td>Medical</td>\n",
       "      <td>1</td>\n",
       "      <td>OFFICIAL BRANDON SAENZ MEDICAL FUND</td>\n",
       "      <td>Tyler, TX</td>\n",
       "      <td>1.411933</td>\n",
       "      <td>1.912289</td>\n",
       "      <td>2.307055</td>\n",
       "      <td>1.029692</td>\n",
       "      <td>0.225011</td>\n",
       "      <td>2.319142</td>\n",
       "      <td>2.372845</td>\n",
       "      <td>My name is Melissa Green and I am the mother o...</td>\n",
       "    </tr>\n",
       "    <tr>\n",
       "      <td>4</td>\n",
       "      <td>0</td>\n",
       "      <td>https://www.gofundme.com/f/please-help-me-in-t...</td>\n",
       "      <td>Medical</td>\n",
       "      <td>1</td>\n",
       "      <td>PLEASE HELP ME IN THE BATTLE FOR MY LIFE</td>\n",
       "      <td>New Milford, NJ</td>\n",
       "      <td>1.194743</td>\n",
       "      <td>1.443379</td>\n",
       "      <td>0.604625</td>\n",
       "      <td>-1.764350</td>\n",
       "      <td>0.338322</td>\n",
       "      <td>0.611972</td>\n",
       "      <td>0.642483</td>\n",
       "      <td>PLEASE HELP ME IN THE BATTLE FOR MY LIFE. My n...</td>\n",
       "    </tr>\n",
       "  </tbody>\n",
       "</table>\n",
       "</div>"
      ],
      "text/plain": [
       "   Unnamed: 0                                                Url Category  \\\n",
       "0           0    https://www.gofundme.com/f/justiceforjacobblake  Medical   \n",
       "1           0  https://www.gofundme.com/f/official-navajo-nat...  Medical   \n",
       "2           0    https://www.gofundme.com/f/Tommy-Rivers-Rest-Up  Medical   \n",
       "3           0  https://www.gofundme.com/f/brandon039s-medical...  Medical   \n",
       "4           0  https://www.gofundme.com/f/please-help-me-in-t...  Medical   \n",
       "\n",
       "   Position                                        Title  \\\n",
       "0         0                      Justice for Jacob Blake   \n",
       "1         0  Official Navajo Nation COVID-19 Relief Fund   \n",
       "2         0           Rest up, Tommy, we'll see you soon   \n",
       "3         1          OFFICIAL BRANDON SAENZ MEDICAL FUND   \n",
       "4         1     PLEASE HELP ME IN THE BATTLE FOR MY LIFE   \n",
       "\n",
       "                              Location  Amount_Raised      Goal  \\\n",
       "0                          Kenosha, WI       6.616203  8.945946   \n",
       "1                      Window Rock, AZ       5.214384  2.693807   \n",
       "2  Raised $105,973 from 1795 donations       1.659910  2.693807   \n",
       "3                            Tyler, TX       1.411933  1.912289   \n",
       "4                      New Milford, NJ       1.194743  1.443379   \n",
       "\n",
       "   Number_of_Donations  Length_of_Fundraising  FB_Shares  Number_of_Donors  \\\n",
       "0             7.162507              -0.680095  11.813639          7.276107   \n",
       "1             2.035069               1.655223   7.003071          2.031186   \n",
       "2             0.926979               0.112245   1.801064          0.858791   \n",
       "3             2.307055               1.029692   0.225011          2.319142   \n",
       "4             0.604625              -1.764350   0.338322          0.611972   \n",
       "\n",
       "   Followers                                               Text  \n",
       "0   7.470116  On August 23rd my son was shot multiple times ...  \n",
       "1   2.070553  \\nThe Navajo Nation COVID-19 Fund has been est...  \n",
       "2   0.882232  First, thank you for being here. Tommy Rivers ...  \n",
       "3   2.372845  My name is Melissa Green and I am the mother o...  \n",
       "4   0.642483  PLEASE HELP ME IN THE BATTLE FOR MY LIFE. My n...  "
      ]
     },
     "execution_count": 7,
     "metadata": {},
     "output_type": "execute_result"
    }
   ],
   "source": [
    "df.head()"
   ]
  },
  {
   "cell_type": "code",
   "execution_count": 8,
   "metadata": {},
   "outputs": [
    {
     "data": {
      "text/plain": [
       "112"
      ]
     },
     "execution_count": 8,
     "metadata": {},
     "output_type": "execute_result"
    }
   ],
   "source": [
    "count = 0\n",
    "for x in df['Location']:\n",
    "    if x.find('$') != -1:\n",
    "        count += 1\n",
    "count"
   ]
  },
  {
   "cell_type": "markdown",
   "metadata": {},
   "source": [
    "## Quantitative Predictors"
   ]
  },
  {
   "cell_type": "markdown",
   "metadata": {},
   "source": [
    "### The relationship between Amount_Raised and Number_of_Donations appears linear"
   ]
  },
  {
   "cell_type": "code",
   "execution_count": 9,
   "metadata": {},
   "outputs": [
    {
     "data": {
      "text/plain": [
       "[<matplotlib.lines.Line2D at 0x14801deb448>]"
      ]
     },
     "execution_count": 9,
     "metadata": {},
     "output_type": "execute_result"
    },
    {
     "data": {
      "image/png": "[encoded data removed]",
      "text/plain": [
       "<Figure size 432x288 with 1 Axes>"
      ]
     },
     "metadata": {
      "needs_background": "light"
     },
     "output_type": "display_data"
    }
   ],
   "source": [
    "x = df['Number_of_Donations']\n",
    "y = df['Amount_Raised']\n",
    "\n",
    "plt.plot(x, y, 'o', color = 'black')\n",
    "\n",
    "m, b = np.polyfit(x, y, 1)\n",
    "\n",
    "\n",
    "plt.plot(x, m*x + b)"
   ]
  },
  {
   "cell_type": "markdown",
   "metadata": {},
   "source": [
    "The p-value is very close to 0 so number of donations is a strong predictor of amount raised"
   ]
  },
  {
   "cell_type": "code",
   "execution_count": 10,
   "metadata": {},
   "outputs": [
    {
     "name": "stdout",
     "output_type": "stream",
     "text": [
      "                            OLS Regression Results                            \n",
      "==============================================================================\n",
      "Dep. Variable:          Amount_Raised   R-squared:                       0.859\n",
      "Model:                            OLS   Adj. R-squared:                  0.859\n",
      "Method:                 Least Squares   F-statistic:                     4565.\n",
      "Date:                Fri, 20 Nov 2020   Prob (F-statistic):          2.06e-320\n",
      "Time:                        17:20:07   Log-Likelihood:                -329.13\n",
      "No. Observations:                 749   AIC:                             662.3\n",
      "Df Residuals:                     747   BIC:                             671.5\n",
      "Df Model:                           1                                         \n",
      "Covariance Type:            nonrobust                                         \n",
      "==============================================================================\n",
      "                 coef    std err          t      P>|t|      [0.025      0.975]\n",
      "------------------------------------------------------------------------------\n",
      "const       8.936e-05      0.014      0.007      0.995      -0.027       0.027\n",
      "x1             0.9270      0.014     67.561      0.000       0.900       0.954\n",
      "==============================================================================\n",
      "Omnibus:                      774.468   Durbin-Watson:                   1.471\n",
      "Prob(Omnibus):                  0.000   Jarque-Bera (JB):           147270.351\n",
      "Skew:                           4.266   Prob(JB):                         0.00\n",
      "Kurtosis:                      71.163   Cond. No.                         1.00\n",
      "==============================================================================\n",
      "\n",
      "Warnings:\n",
      "[1] Standard Errors assume that the covariance matrix of the errors is correctly specified.\n"
     ]
    }
   ],
   "source": [
    "X2 = sm.add_constant(x.values)\n",
    "est = sm.OLS(y, X2)\n",
    "est2 = est.fit()\n",
    "print(est2.summary())"
   ]
  },
  {
   "cell_type": "code",
   "execution_count": 11,
   "metadata": {},
   "outputs": [],
   "source": [
    "mod = sm.OLS(y, x)\n",
    "fii = mod.fit()\n",
    "p_values = fii.summary2().tables[1]['P>|t|']"
   ]
  },
  {
   "cell_type": "code",
   "execution_count": 12,
   "metadata": {},
   "outputs": [
    {
     "data": {
      "text/plain": [
       "Number_of_Donations    7.707424e-321\n",
       "Name: P>|t|, dtype: float64"
      ]
     },
     "execution_count": 12,
     "metadata": {},
     "output_type": "execute_result"
    }
   ],
   "source": [
    "p_values"
   ]
  },
  {
   "cell_type": "markdown",
   "metadata": {},
   "source": [
    "### The relationship between Amount_Raised and Goal appears linear"
   ]
  },
  {
   "cell_type": "code",
   "execution_count": 13,
   "metadata": {},
   "outputs": [
    {
     "data": {
      "text/plain": [
       "[<matplotlib.lines.Line2D at 0x148021d1d08>]"
      ]
     },
     "execution_count": 13,
     "metadata": {},
     "output_type": "execute_result"
    },
    {
     "data": {
      "image/png": "[encoded data removed]",
      "text/plain": [
       "<Figure size 432x288 with 1 Axes>"
      ]
     },
     "metadata": {
      "needs_background": "light"
     },
     "output_type": "display_data"
    }
   ],
   "source": [
    "x = df['Goal']\n",
    "y = df['Amount_Raised']\n",
    "\n",
    "plt.plot(x, y, 'o', color = 'black')\n",
    "\n",
    "m, b = np.polyfit(x, y, 1)\n",
    "\n",
    "\n",
    "plt.plot(x, m*x + b)"
   ]
  },
  {
   "cell_type": "markdown",
   "metadata": {},
   "source": [
    "The p-value is very close to 0 so Goal is a strong predictor of Amount_Raised"
   ]
  },
  {
   "cell_type": "code",
   "execution_count": 14,
   "metadata": {},
   "outputs": [
    {
     "name": "stdout",
     "output_type": "stream",
     "text": [
      "                            OLS Regression Results                            \n",
      "==============================================================================\n",
      "Dep. Variable:          Amount_Raised   R-squared:                       0.305\n",
      "Model:                            OLS   Adj. R-squared:                  0.304\n",
      "Method:                 Least Squares   F-statistic:                     327.5\n",
      "Date:                Fri, 20 Nov 2020   Prob (F-statistic):           5.72e-61\n",
      "Time:                        17:20:08   Log-Likelihood:                -927.60\n",
      "No. Observations:                 749   AIC:                             1859.\n",
      "Df Residuals:                     747   BIC:                             1868.\n",
      "Df Model:                           1                                         \n",
      "Covariance Type:            nonrobust                                         \n",
      "==============================================================================\n",
      "                 coef    std err          t      P>|t|      [0.025      0.975]\n",
      "------------------------------------------------------------------------------\n",
      "const          0.0001      0.031      0.004      0.997      -0.060       0.060\n",
      "x1             0.5521      0.031     18.096      0.000       0.492       0.612\n",
      "==============================================================================\n",
      "Omnibus:                     1613.365   Durbin-Watson:                   1.913\n",
      "Prob(Omnibus):                  0.000   Jarque-Bera (JB):          4848886.563\n",
      "Skew:                          17.222   Prob(JB):                         0.00\n",
      "Kurtosis:                     395.664   Cond. No.                         1.00\n",
      "==============================================================================\n",
      "\n",
      "Warnings:\n",
      "[1] Standard Errors assume that the covariance matrix of the errors is correctly specified.\n"
     ]
    }
   ],
   "source": [
    "X2 = sm.add_constant(x.values)\n",
    "est = sm.OLS(y, X2)\n",
    "est2 = est.fit()\n",
    "print(est2.summary())"
   ]
  },
  {
   "cell_type": "code",
   "execution_count": 15,
   "metadata": {},
   "outputs": [],
   "source": [
    "mod = sm.OLS(y, x)\n",
    "fii = mod.fit()\n",
    "p_values = fii.summary2().tables[1]['P>|t|']"
   ]
  },
  {
   "cell_type": "code",
   "execution_count": 16,
   "metadata": {},
   "outputs": [
    {
     "data": {
      "text/plain": [
       "Goal    4.762784e-61\n",
       "Name: P>|t|, dtype: float64"
      ]
     },
     "execution_count": 16,
     "metadata": {},
     "output_type": "execute_result"
    }
   ],
   "source": [
    "p_values"
   ]
  },
  {
   "cell_type": "markdown",
   "metadata": {},
   "source": [
    "### The relationship between Amount_Raised and Followers appears linear"
   ]
  },
  {
   "cell_type": "code",
   "execution_count": 17,
   "metadata": {},
   "outputs": [
    {
     "data": {
      "text/plain": [
       "[<matplotlib.lines.Line2D at 0x148026af508>]"
      ]
     },
     "execution_count": 17,
     "metadata": {},
     "output_type": "execute_result"
    },
    {
     "data": {
      "image/png": "[encoded data removed]",
      "text/plain": [
       "<Figure size 432x288 with 1 Axes>"
      ]
     },
     "metadata": {
      "needs_background": "light"
     },
     "output_type": "display_data"
    }
   ],
   "source": [
    "x = df['Followers']\n",
    "y = df['Amount_Raised']\n",
    "\n",
    "plt.plot(x, y, 'o', color = 'black')\n",
    "\n",
    "m, b = np.polyfit(x, y, 1)\n",
    "\n",
    "\n",
    "plt.plot(x, m*x + b)"
   ]
  },
  {
   "cell_type": "markdown",
   "metadata": {},
   "source": [
    "The p-value is very close to 0 so Goal is a strong predictor of Amount_Raised"
   ]
  },
  {
   "cell_type": "code",
   "execution_count": 18,
   "metadata": {},
   "outputs": [
    {
     "name": "stdout",
     "output_type": "stream",
     "text": [
      "                            OLS Regression Results                            \n",
      "==============================================================================\n",
      "Dep. Variable:          Amount_Raised   R-squared:                       0.839\n",
      "Model:                            OLS   Adj. R-squared:                  0.839\n",
      "Method:                 Least Squares   F-statistic:                     3902.\n",
      "Date:                Fri, 20 Nov 2020   Prob (F-statistic):          8.76e-299\n",
      "Time:                        17:20:09   Log-Likelihood:                -379.05\n",
      "No. Observations:                 749   AIC:                             762.1\n",
      "Df Residuals:                     747   BIC:                             771.3\n",
      "Df Model:                           1                                         \n",
      "Covariance Type:            nonrobust                                         \n",
      "==============================================================================\n",
      "                 coef    std err          t      P>|t|      [0.025      0.975]\n",
      "------------------------------------------------------------------------------\n",
      "const         -0.0003      0.015     -0.019      0.985      -0.029       0.029\n",
      "x1             0.9115      0.015     62.463      0.000       0.883       0.940\n",
      "==============================================================================\n",
      "Omnibus:                      990.622   Durbin-Watson:                   1.453\n",
      "Prob(Omnibus):                  0.000   Jarque-Bera (JB):           263510.931\n",
      "Skew:                           6.650   Prob(JB):                         0.00\n",
      "Kurtosis:                      93.922   Cond. No.                         1.01\n",
      "==============================================================================\n",
      "\n",
      "Warnings:\n",
      "[1] Standard Errors assume that the covariance matrix of the errors is correctly specified.\n"
     ]
    }
   ],
   "source": [
    "X2 = sm.add_constant(x.values)\n",
    "est = sm.OLS(y, X2)\n",
    "est2 = est.fit()\n",
    "print(est2.summary())"
   ]
  },
  {
   "cell_type": "code",
   "execution_count": 19,
   "metadata": {},
   "outputs": [],
   "source": [
    "mod = sm.OLS(y, x)\n",
    "fii = mod.fit()\n",
    "p_values = fii.summary2().tables[1]['P>|t|']"
   ]
  },
  {
   "cell_type": "code",
   "execution_count": 20,
   "metadata": {},
   "outputs": [
    {
     "data": {
      "text/plain": [
       "Followers    3.508872e-299\n",
       "Name: P>|t|, dtype: float64"
      ]
     },
     "execution_count": 20,
     "metadata": {},
     "output_type": "execute_result"
    }
   ],
   "source": [
    "p_values"
   ]
  },
  {
   "cell_type": "markdown",
   "metadata": {},
   "source": [
    "## Categorical Predictors"
   ]
  },
  {
   "cell_type": "code",
   "execution_count": 21,
   "metadata": {},
   "outputs": [],
   "source": [
    "def boxplot_sorted(df, by, column):\n",
    "    df2 = pd.DataFrame({col:vals[column] for col, vals in df.groupby(by)})\n",
    "    meds = df2.median().sort_values()\n",
    "    df2[meds.index].boxplot(fontsize=14)"
   ]
  },
  {
   "cell_type": "code",
   "execution_count": 22,
   "metadata": {},
   "outputs": [
    {
     "data": {
      "text/plain": [
       "Text(0.5, 0.98, '')"
      ]
     },
     "execution_count": 22,
     "metadata": {},
     "output_type": "execute_result"
    },
    {
     "data": {
      "image/png": "[encoded data removed]",
      "text/plain": [
       "<Figure size 1440x576 with 1 Axes>"
      ]
     },
     "metadata": {
      "needs_background": "light"
     },
     "output_type": "display_data"
    }
   ],
   "source": [
    "plt.figure(figsize=(20,8))\n",
    "boxplot_sorted(df, by=[\"Category\"], column=\"Amount_Raised\")\n",
    "plt.title(\"Boxplot of Standardized Amount_Raised by Category\", fontsize=18)\n",
    "plt.suptitle(\"\")"
   ]
  },
  {
   "cell_type": "code",
   "execution_count": 23,
   "metadata": {},
   "outputs": [
    {
     "data": {
      "text/plain": [
       "Text(0.5, 0.98, '')"
      ]
     },
     "execution_count": 23,
     "metadata": {},
     "output_type": "execute_result"
    },
    {
     "data": {
      "image/png": "[encoded data removed]",
      "text/plain": [
       "<Figure size 1440x576 with 1 Axes>"
      ]
     },
     "metadata": {
      "needs_background": "light"
     },
     "output_type": "display_data"
    }
   ],
   "source": [
    "plt.figure(figsize=(20,8))\n",
    "boxplot_sorted(df, by=[\"Category\"], column=\"Amount_Raised\")\n",
    "plt.ylim(-0.5, 2.5)\n",
    "plt.title(\"Boxplot of Standardized Amount_Raised by Category Zoomed\", fontsize=18)\n",
    "plt.suptitle(\"\")"
   ]
  },
  {
   "cell_type": "code",
   "execution_count": null,
   "metadata": {},
   "outputs": [],
   "source": []
  },
  {
   "cell_type": "code",
   "execution_count": 24,
   "metadata": {},
   "outputs": [],
   "source": [
    "cat_subset = df[['Category', 'Amount_Raised']]\n",
    "grps = pd.unique(cat_subset['Category'])\n",
    "l_data = [cat_subset['Amount_Raised'][cat_subset['Category'] == grp] for grp in grps]\n",
    "f, p = stats.f_oneway(*l_data)"
   ]
  },
  {
   "cell_type": "code",
   "execution_count": 25,
   "metadata": {},
   "outputs": [
    {
     "data": {
      "text/plain": [
       "(7.986292463206721, 4.360373322618361e-15)"
      ]
     },
     "execution_count": 25,
     "metadata": {},
     "output_type": "execute_result"
    }
   ],
   "source": [
    "f, p"
   ]
  },
  {
   "cell_type": "code",
   "execution_count": null,
   "metadata": {},
   "outputs": [],
   "source": []
  },
  {
   "cell_type": "markdown",
   "metadata": {},
   "source": [
    "## Ridge Regression"
   ]
  },
  {
   "cell_type": "code",
   "execution_count": 142,
   "metadata": {},
   "outputs": [
    {
     "data": {
      "image/png": "[encoded data removed]",
      "text/plain": [
       "<Figure size 432x288 with 2 Axes>"
      ]
     },
     "metadata": {},
     "output_type": "display_data"
    }
   ],
   "source": [
    "sn.heatmap(df.corr(), annot = True)\n",
    "plt.show()"
   ]
  },
  {
   "cell_type": "code",
   "execution_count": 98,
   "metadata": {},
   "outputs": [],
   "source": [
    "def to_integer(x):\n",
    "    d = {'Business': 1, 'Community': 2, 'Competition': 3, 'Creative': 4, 'Education': 5, 'Emergency': 6, 'Event': 7, 'Faith': 8, 'Family':9, 'Medical': 10, 'Newlywed':11, 'Sports':12, 'Travel':13, 'Wishes': 14}\n",
    "    return d[x]"
   ]
  },
  {
   "cell_type": "code",
   "execution_count": 100,
   "metadata": {},
   "outputs": [],
   "source": [
    "new_column = df.get('Category').apply(to_integer)\n",
    "df = df.assign(Categorical_Assign = new_column)"
   ]
  },
  {
   "cell_type": "code",
   "execution_count": 101,
   "metadata": {},
   "outputs": [],
   "source": [
    "reg_df = df[['Amount_Raised', 'Categorical_Assign', 'Goal', 'Number_of_Donations', 'FB_Shares', 'Number_of_Donors', 'Followers']].copy()"
   ]
  },
  {
   "cell_type": "code",
   "execution_count": 102,
   "metadata": {},
   "outputs": [
    {
     "data": {
      "text/html": [
       "<div>\n",
       "<style scoped>\n",
       "    .dataframe tbody tr th:only-of-type {\n",
       "        vertical-align: middle;\n",
       "    }\n",
       "\n",
       "    .dataframe tbody tr th {\n",
       "        vertical-align: top;\n",
       "    }\n",
       "\n",
       "    .dataframe thead th {\n",
       "        text-align: right;\n",
       "    }\n",
       "</style>\n",
       "<table border=\"1\" class=\"dataframe\">\n",
       "  <thead>\n",
       "    <tr style=\"text-align: right;\">\n",
       "      <th></th>\n",
       "      <th>Amount_Raised</th>\n",
       "      <th>Categorical_Assign</th>\n",
       "      <th>Goal</th>\n",
       "      <th>Number_of_Donations</th>\n",
       "      <th>FB_Shares</th>\n",
       "      <th>Number_of_Donors</th>\n",
       "      <th>Followers</th>\n",
       "      <th>Category</th>\n",
       "    </tr>\n",
       "  </thead>\n",
       "  <tbody>\n",
       "    <tr>\n",
       "      <td>0</td>\n",
       "      <td>6.616203</td>\n",
       "      <td>0.714286</td>\n",
       "      <td>1.000000</td>\n",
       "      <td>0.340524</td>\n",
       "      <td>1.000000</td>\n",
       "      <td>0.344704</td>\n",
       "      <td>0.351527</td>\n",
       "      <td>Medical</td>\n",
       "    </tr>\n",
       "    <tr>\n",
       "      <td>1</td>\n",
       "      <td>5.214384</td>\n",
       "      <td>0.714286</td>\n",
       "      <td>0.301120</td>\n",
       "      <td>0.096752</td>\n",
       "      <td>0.592795</td>\n",
       "      <td>0.096227</td>\n",
       "      <td>0.097436</td>\n",
       "      <td>Medical</td>\n",
       "    </tr>\n",
       "    <tr>\n",
       "      <td>2</td>\n",
       "      <td>1.659910</td>\n",
       "      <td>0.714286</td>\n",
       "      <td>0.301120</td>\n",
       "      <td>0.044071</td>\n",
       "      <td>0.152456</td>\n",
       "      <td>0.040685</td>\n",
       "      <td>0.041516</td>\n",
       "      <td>Medical</td>\n",
       "    </tr>\n",
       "    <tr>\n",
       "      <td>3</td>\n",
       "      <td>1.411933</td>\n",
       "      <td>0.714286</td>\n",
       "      <td>0.213760</td>\n",
       "      <td>0.109683</td>\n",
       "      <td>0.019047</td>\n",
       "      <td>0.109869</td>\n",
       "      <td>0.111661</td>\n",
       "      <td>Medical</td>\n",
       "    </tr>\n",
       "    <tr>\n",
       "      <td>4</td>\n",
       "      <td>1.194743</td>\n",
       "      <td>0.714286</td>\n",
       "      <td>0.161344</td>\n",
       "      <td>0.028745</td>\n",
       "      <td>0.028638</td>\n",
       "      <td>0.028992</td>\n",
       "      <td>0.030234</td>\n",
       "      <td>Medical</td>\n",
       "    </tr>\n",
       "    <tr>\n",
       "      <td>...</td>\n",
       "      <td>...</td>\n",
       "      <td>...</td>\n",
       "      <td>...</td>\n",
       "      <td>...</td>\n",
       "      <td>...</td>\n",
       "      <td>...</td>\n",
       "      <td>...</td>\n",
       "      <td>...</td>\n",
       "    </tr>\n",
       "    <tr>\n",
       "      <td>775</td>\n",
       "      <td>-0.233882</td>\n",
       "      <td>1.000000</td>\n",
       "      <td>-0.037836</td>\n",
       "      <td>-0.006599</td>\n",
       "      <td>-0.016704</td>\n",
       "      <td>-0.006487</td>\n",
       "      <td>-0.006462</td>\n",
       "      <td>Wishes</td>\n",
       "    </tr>\n",
       "    <tr>\n",
       "      <td>776</td>\n",
       "      <td>-0.234522</td>\n",
       "      <td>1.000000</td>\n",
       "      <td>-0.039583</td>\n",
       "      <td>-0.007293</td>\n",
       "      <td>-0.006240</td>\n",
       "      <td>-0.007198</td>\n",
       "      <td>-0.007174</td>\n",
       "      <td>Wishes</td>\n",
       "    </tr>\n",
       "    <tr>\n",
       "      <td>777</td>\n",
       "      <td>-0.236321</td>\n",
       "      <td>1.000000</td>\n",
       "      <td>-0.013375</td>\n",
       "      <td>-0.003342</td>\n",
       "      <td>0.005095</td>\n",
       "      <td>-0.003164</td>\n",
       "      <td>-0.003122</td>\n",
       "      <td>Wishes</td>\n",
       "    </tr>\n",
       "    <tr>\n",
       "      <td>778</td>\n",
       "      <td>-0.238552</td>\n",
       "      <td>1.000000</td>\n",
       "      <td>-0.047970</td>\n",
       "      <td>-0.006925</td>\n",
       "      <td>-0.014088</td>\n",
       "      <td>-0.006833</td>\n",
       "      <td>-0.006806</td>\n",
       "      <td>Wishes</td>\n",
       "    </tr>\n",
       "    <tr>\n",
       "      <td>779</td>\n",
       "      <td>-0.240768</td>\n",
       "      <td>1.000000</td>\n",
       "      <td>-0.037836</td>\n",
       "      <td>-0.003821</td>\n",
       "      <td>-0.028475</td>\n",
       "      <td>-0.003690</td>\n",
       "      <td>-0.003656</td>\n",
       "      <td>Wishes</td>\n",
       "    </tr>\n",
       "  </tbody>\n",
       "</table>\n",
       "<p>749 rows × 8 columns</p>\n",
       "</div>"
      ],
      "text/plain": [
       "     Amount_Raised  Categorical_Assign      Goal  Number_of_Donations  \\\n",
       "0         6.616203            0.714286  1.000000             0.340524   \n",
       "1         5.214384            0.714286  0.301120             0.096752   \n",
       "2         1.659910            0.714286  0.301120             0.044071   \n",
       "3         1.411933            0.714286  0.213760             0.109683   \n",
       "4         1.194743            0.714286  0.161344             0.028745   \n",
       "..             ...                 ...       ...                  ...   \n",
       "775      -0.233882            1.000000 -0.037836            -0.006599   \n",
       "776      -0.234522            1.000000 -0.039583            -0.007293   \n",
       "777      -0.236321            1.000000 -0.013375            -0.003342   \n",
       "778      -0.238552            1.000000 -0.047970            -0.006925   \n",
       "779      -0.240768            1.000000 -0.037836            -0.003821   \n",
       "\n",
       "     FB_Shares  Number_of_Donors  Followers Category  \n",
       "0     1.000000          0.344704   0.351527  Medical  \n",
       "1     0.592795          0.096227   0.097436  Medical  \n",
       "2     0.152456          0.040685   0.041516  Medical  \n",
       "3     0.019047          0.109869   0.111661  Medical  \n",
       "4     0.028638          0.028992   0.030234  Medical  \n",
       "..         ...               ...        ...      ...  \n",
       "775  -0.016704         -0.006487  -0.006462   Wishes  \n",
       "776  -0.006240         -0.007198  -0.007174   Wishes  \n",
       "777   0.005095         -0.003164  -0.003122   Wishes  \n",
       "778  -0.014088         -0.006833  -0.006806   Wishes  \n",
       "779  -0.028475         -0.003690  -0.003656   Wishes  \n",
       "\n",
       "[749 rows x 8 columns]"
      ]
     },
     "execution_count": 102,
     "metadata": {},
     "output_type": "execute_result"
    }
   ],
   "source": [
    "target_column = ['Amount_Raised']\n",
    "predictors = list(set(list(reg_df.columns))-set(target_column))\n",
    "reg_df[predictors] = reg_df[predictors]/reg_df[predictors].max()\n",
    "reg_df['Category'] = df['Category']\n",
    "reg_df = reg_df.dropna()\n",
    "reg_df"
   ]
  },
  {
   "cell_type": "code",
   "execution_count": 103,
   "metadata": {},
   "outputs": [],
   "source": [
    "X = df[predictors].values\n",
    "y = df[target_column].values"
   ]
  },
  {
   "cell_type": "code",
   "execution_count": 104,
   "metadata": {},
   "outputs": [
    {
     "name": "stdout",
     "output_type": "stream",
     "text": [
      "(524, 6)\n",
      "(225, 6)\n"
     ]
    }
   ],
   "source": [
    "X_train, X_test, y_train, y_test = train_test_split(X, y, test_size=0.30, random_state=40)\n",
    "print(X_train.shape); print(X_test.shape)"
   ]
  },
  {
   "cell_type": "code",
   "execution_count": 155,
   "metadata": {},
   "outputs": [
    {
     "name": "stdout",
     "output_type": "stream",
     "text": [
      "0.20837018937031504\n",
      "0.9012027760432971\n"
     ]
    }
   ],
   "source": [
    "rr = Ridge(alpha=0)\n",
    "rr.fit(X_train, y_train) \n",
    "pred_train_rr= rr.predict(X_train)\n",
    "print(np.sqrt(mean_squared_error(y_train,pred_train_rr)))\n",
    "print(r2_score(y_train, pred_train_rr))"
   ]
  },
  {
   "cell_type": "code",
   "execution_count": 156,
   "metadata": {},
   "outputs": [
    {
     "name": "stdout",
     "output_type": "stream",
     "text": [
      "0.5026899150740385\n",
      "0.8904146088941645\n"
     ]
    }
   ],
   "source": [
    "pred_test_rr= rr.predict(X_test)\n",
    "print(np.sqrt(mean_squared_error(y_test,pred_test_rr))) \n",
    "print(r2_score(y_test, pred_test_rr))"
   ]
  },
  {
   "cell_type": "code",
   "execution_count": 158,
   "metadata": {},
   "outputs": [
    {
     "data": {
      "text/plain": [
       "{'alpha': 0,\n",
       " 'copy_X': True,\n",
       " 'fit_intercept': True,\n",
       " 'max_iter': None,\n",
       " 'normalize': False,\n",
       " 'random_state': None,\n",
       " 'solver': 'auto',\n",
       " 'tol': 0.001}"
      ]
     },
     "execution_count": 158,
     "metadata": {},
     "output_type": "execute_result"
    }
   ],
   "source": [
    "rr.get_params()"
   ]
  },
  {
   "cell_type": "code",
   "execution_count": 159,
   "metadata": {},
   "outputs": [
    {
     "data": {
      "text/plain": [
       "array([[ 7.4701156 , 11.81363888,  7.16250671,  7.2761067 ,  8.945946  ,\n",
       "        10.        ],\n",
       "       [ 2.07055295,  7.00307066,  2.03506943,  2.03118553,  2.69380676,\n",
       "        10.        ],\n",
       "       [ 0.88223222,  1.80106435,  0.92697886,  0.85879138,  2.69380676,\n",
       "        10.        ],\n",
       "       ...,\n",
       "       [-0.0663396 ,  0.06019491, -0.07030265, -0.06678294, -0.1196559 ,\n",
       "        14.        ],\n",
       "       [-0.14462283, -0.16642715, -0.14565281, -0.14422266, -0.42913679,\n",
       "        14.        ],\n",
       "       [-0.07770161, -0.33639369, -0.0803762 , -0.07788984, -0.33848077,\n",
       "        14.        ]])"
      ]
     },
     "execution_count": 159,
     "metadata": {},
     "output_type": "execute_result"
    }
   ],
   "source": [
    "X"
   ]
  },
  {
   "cell_type": "code",
   "execution_count": null,
   "metadata": {},
   "outputs": [],
   "source": []
  }
 ],
 "metadata": {
  "kernelspec": {
   "display_name": "Python 3",
   "language": "python",
   "name": "python3"
  },
  "language_info": {
   "codemirror_mode": {
    "name": "ipython",
    "version": 3
   },
   "file_extension": ".py",
   "mimetype": "text/x-python",
   "name": "python",
   "nbconvert_exporter": "python",
   "pygments_lexer": "ipython3",
   "version": "3.7.4"
  }
 },
 "nbformat": 4,
 "nbformat_minor": 2
}
